{
 "cells": [
  {
   "cell_type": "code",
   "execution_count": 1,
   "id": "5a46f107",
   "metadata": {},
   "outputs": [],
   "source": [
    "import pandas as pd\n",
    "import numpy as np\n",
    "import matplotlib.pyplot as plt\n",
    "import matplotlib\n",
    "matplotlib.rcParams[\"figure.figsize\"]=(20,10)\n",
    "import seaborn as sns\n",
    "%matplotlib inline\n",
    "\n",
    "import warnings\n",
    "warnings.filterwarnings('ignore')"
   ]
  },
  {
   "cell_type": "code",
   "execution_count": 2,
   "id": "2afb4ef6",
   "metadata": {},
   "outputs": [
    {
     "data": {
      "text/plain": [
       "(1148, 6)"
      ]
     },
     "execution_count": 2,
     "metadata": {},
     "output_type": "execute_result"
    }
   ],
   "source": [
    "df = pd.read_csv(\"C:/Users/Dickson/Downloads/Data Science tutorials/Data science project/my project/PhonesPriceInKenya.csv\")\n",
    "df.shape"
   ]
  },
  {
   "cell_type": "code",
   "execution_count": 3,
   "id": "59242bcb",
   "metadata": {
    "scrolled": true
   },
   "outputs": [
    {
     "data": {
      "text/html": [
       "<div>\n",
       "<style scoped>\n",
       "    .dataframe tbody tr th:only-of-type {\n",
       "        vertical-align: middle;\n",
       "    }\n",
       "\n",
       "    .dataframe tbody tr th {\n",
       "        vertical-align: top;\n",
       "    }\n",
       "\n",
       "    .dataframe thead th {\n",
       "        text-align: right;\n",
       "    }\n",
       "</style>\n",
       "<table border=\"1\" class=\"dataframe\">\n",
       "  <thead>\n",
       "    <tr style=\"text-align: right;\">\n",
       "      <th></th>\n",
       "      <th>Phone Title</th>\n",
       "      <th>Specs</th>\n",
       "      <th>Price(Kshs)</th>\n",
       "      <th>Rating</th>\n",
       "      <th>Specs Score</th>\n",
       "      <th>Likes</th>\n",
       "    </tr>\n",
       "  </thead>\n",
       "  <tbody>\n",
       "    <tr>\n",
       "      <th>0</th>\n",
       "      <td>Gionee M7 Power</td>\n",
       "      <td>Screen:6.0 inches, 720 x 1440 pixels,Front Cam...</td>\n",
       "      <td>11,800</td>\n",
       "      <td>4.0</td>\n",
       "      <td>56%</td>\n",
       "      <td>13</td>\n",
       "    </tr>\n",
       "    <tr>\n",
       "      <th>1</th>\n",
       "      <td>Gionee M7</td>\n",
       "      <td>Screen:6.01 inches, 1080 x 2160 pixels,Front C...</td>\n",
       "      <td>7,999</td>\n",
       "      <td>4.5</td>\n",
       "      <td>69%</td>\n",
       "      <td>8</td>\n",
       "    </tr>\n",
       "    <tr>\n",
       "      <th>2</th>\n",
       "      <td>Samsung Galaxy M21 6GB128GB</td>\n",
       "      <td>Screen:6.4 inches, 1080 x 2340 pixels,Front Ca...</td>\n",
       "      <td>22,590</td>\n",
       "      <td>4.3</td>\n",
       "      <td>100%</td>\n",
       "      <td>30</td>\n",
       "    </tr>\n",
       "    <tr>\n",
       "      <th>3</th>\n",
       "      <td>Samsung Galaxy M21 4GB64GB</td>\n",
       "      <td>Screen:6.4 inches, 1080 x 2340 pixels,Front Ca...</td>\n",
       "      <td>22,499</td>\n",
       "      <td>3.8</td>\n",
       "      <td>94%</td>\n",
       "      <td>31</td>\n",
       "    </tr>\n",
       "    <tr>\n",
       "      <th>4</th>\n",
       "      <td>Samsung Galaxy A31 6GB128GB</td>\n",
       "      <td>Screen:6.4 inches, 1080 x 2400 pixels,Front Ca...</td>\n",
       "      <td>24,999</td>\n",
       "      <td>3.8</td>\n",
       "      <td>98%</td>\n",
       "      <td>31</td>\n",
       "    </tr>\n",
       "  </tbody>\n",
       "</table>\n",
       "</div>"
      ],
      "text/plain": [
       "                   Phone Title  \\\n",
       "0              Gionee M7 Power   \n",
       "1                    Gionee M7   \n",
       "2  Samsung Galaxy M21 6GB128GB   \n",
       "3   Samsung Galaxy M21 4GB64GB   \n",
       "4  Samsung Galaxy A31 6GB128GB   \n",
       "\n",
       "                                               Specs Price(Kshs)  Rating  \\\n",
       "0  Screen:6.0 inches, 720 x 1440 pixels,Front Cam...      11,800     4.0   \n",
       "1  Screen:6.01 inches, 1080 x 2160 pixels,Front C...       7,999     4.5   \n",
       "2  Screen:6.4 inches, 1080 x 2340 pixels,Front Ca...      22,590     4.3   \n",
       "3  Screen:6.4 inches, 1080 x 2340 pixels,Front Ca...      22,499     3.8   \n",
       "4  Screen:6.4 inches, 1080 x 2400 pixels,Front Ca...      24,999     3.8   \n",
       "\n",
       "  Specs Score  Likes  \n",
       "0         56%     13  \n",
       "1         69%      8  \n",
       "2        100%     30  \n",
       "3         94%     31  \n",
       "4         98%     31  "
      ]
     },
     "execution_count": 3,
     "metadata": {},
     "output_type": "execute_result"
    }
   ],
   "source": [
    "df.head()"
   ]
  },
  {
   "cell_type": "code",
   "execution_count": 4,
   "id": "ee9a9ba0",
   "metadata": {
    "scrolled": true
   },
   "outputs": [
    {
     "data": {
      "text/html": [
       "<div>\n",
       "<style scoped>\n",
       "    .dataframe tbody tr th:only-of-type {\n",
       "        vertical-align: middle;\n",
       "    }\n",
       "\n",
       "    .dataframe tbody tr th {\n",
       "        vertical-align: top;\n",
       "    }\n",
       "\n",
       "    .dataframe thead th {\n",
       "        text-align: right;\n",
       "    }\n",
       "</style>\n",
       "<table border=\"1\" class=\"dataframe\">\n",
       "  <thead>\n",
       "    <tr style=\"text-align: right;\">\n",
       "      <th></th>\n",
       "      <th>Phone Title</th>\n",
       "      <th>Specs</th>\n",
       "      <th>Price(Kshs)</th>\n",
       "      <th>Rating</th>\n",
       "      <th>Specs Score</th>\n",
       "      <th>Likes</th>\n",
       "    </tr>\n",
       "  </thead>\n",
       "  <tbody>\n",
       "    <tr>\n",
       "      <th>1143</th>\n",
       "      <td>Nokia 105 2019</td>\n",
       "      <td>Screen:1.77 inches, 120 x 160 pixels,Front Cam...</td>\n",
       "      <td>1,900</td>\n",
       "      <td>3.0</td>\n",
       "      <td>8%</td>\n",
       "      <td>11</td>\n",
       "    </tr>\n",
       "    <tr>\n",
       "      <th>1144</th>\n",
       "      <td>Nokia 220 4G</td>\n",
       "      <td>Screen:2.4 inches, 240 x 320 pixels,Front Came...</td>\n",
       "      <td>NaN</td>\n",
       "      <td>4.0</td>\n",
       "      <td>11%</td>\n",
       "      <td>8</td>\n",
       "    </tr>\n",
       "    <tr>\n",
       "      <th>1145</th>\n",
       "      <td>Nokia X71</td>\n",
       "      <td>Screen:6.39 inches, 1080 x 2316 pixels,Front C...</td>\n",
       "      <td>NaN</td>\n",
       "      <td>3.0</td>\n",
       "      <td>93%</td>\n",
       "      <td>53</td>\n",
       "    </tr>\n",
       "    <tr>\n",
       "      <th>1146</th>\n",
       "      <td>Nokia 22 3GB32GB</td>\n",
       "      <td>Screen:5.71 inches, 720 x 1520 pixels,Front Ca...</td>\n",
       "      <td>NaN</td>\n",
       "      <td>3.4</td>\n",
       "      <td>47%</td>\n",
       "      <td>50</td>\n",
       "    </tr>\n",
       "    <tr>\n",
       "      <th>1147</th>\n",
       "      <td>Nokia 22 2GB16GB</td>\n",
       "      <td>Screen:5.71 inches, 720 x 1520 pixels,Front Ca...</td>\n",
       "      <td>9,500</td>\n",
       "      <td>3.9</td>\n",
       "      <td>45%</td>\n",
       "      <td>39</td>\n",
       "    </tr>\n",
       "  </tbody>\n",
       "</table>\n",
       "</div>"
      ],
      "text/plain": [
       "           Phone Title                                              Specs  \\\n",
       "1143    Nokia 105 2019  Screen:1.77 inches, 120 x 160 pixels,Front Cam...   \n",
       "1144      Nokia 220 4G  Screen:2.4 inches, 240 x 320 pixels,Front Came...   \n",
       "1145         Nokia X71  Screen:6.39 inches, 1080 x 2316 pixels,Front C...   \n",
       "1146  Nokia 22 3GB32GB  Screen:5.71 inches, 720 x 1520 pixels,Front Ca...   \n",
       "1147  Nokia 22 2GB16GB  Screen:5.71 inches, 720 x 1520 pixels,Front Ca...   \n",
       "\n",
       "     Price(Kshs)  Rating Specs Score  Likes  \n",
       "1143       1,900     3.0          8%     11  \n",
       "1144         NaN     4.0         11%      8  \n",
       "1145         NaN     3.0         93%     53  \n",
       "1146         NaN     3.4         47%     50  \n",
       "1147       9,500     3.9         45%     39  "
      ]
     },
     "execution_count": 4,
     "metadata": {},
     "output_type": "execute_result"
    }
   ],
   "source": [
    "df.tail()"
   ]
  },
  {
   "cell_type": "code",
   "execution_count": 5,
   "id": "a4cf1dc7",
   "metadata": {
    "scrolled": true
   },
   "outputs": [
    {
     "name": "stdout",
     "output_type": "stream",
     "text": [
      "<class 'pandas.core.frame.DataFrame'>\n",
      "RangeIndex: 1148 entries, 0 to 1147\n",
      "Data columns (total 6 columns):\n",
      " #   Column       Non-Null Count  Dtype  \n",
      "---  ------       --------------  -----  \n",
      " 0   Phone Title  1148 non-null   object \n",
      " 1   Specs        1148 non-null   object \n",
      " 2   Price(Kshs)  1070 non-null   object \n",
      " 3   Rating       1148 non-null   float64\n",
      " 4   Specs Score  1148 non-null   object \n",
      " 5   Likes        1148 non-null   int64  \n",
      "dtypes: float64(1), int64(1), object(4)\n",
      "memory usage: 53.9+ KB\n"
     ]
    }
   ],
   "source": [
    "df.info()"
   ]
  },
  {
   "cell_type": "code",
   "execution_count": 6,
   "id": "ff903326",
   "metadata": {
    "scrolled": true
   },
   "outputs": [
    {
     "data": {
      "text/plain": [
       "Phone Title     0\n",
       "Specs           0\n",
       "Price(Kshs)    78\n",
       "Rating          0\n",
       "Specs Score     0\n",
       "Likes           0\n",
       "dtype: int64"
      ]
     },
     "execution_count": 6,
     "metadata": {},
     "output_type": "execute_result"
    }
   ],
   "source": [
    "df.isnull().sum()"
   ]
  },
  {
   "cell_type": "code",
   "execution_count": 7,
   "id": "271fb8ae",
   "metadata": {},
   "outputs": [],
   "source": [
    "#Removing missing values \n",
    "df.dropna(how = 'any', inplace = True)"
   ]
  },
  {
   "cell_type": "code",
   "execution_count": 8,
   "id": "6bcb82f2",
   "metadata": {
    "scrolled": true
   },
   "outputs": [
    {
     "data": {
      "text/plain": [
       "Phone Title    0\n",
       "Specs          0\n",
       "Price(Kshs)    0\n",
       "Rating         0\n",
       "Specs Score    0\n",
       "Likes          0\n",
       "dtype: int64"
      ]
     },
     "execution_count": 8,
     "metadata": {},
     "output_type": "execute_result"
    }
   ],
   "source": [
    "df.isnull().sum()"
   ]
  },
  {
   "cell_type": "code",
   "execution_count": 9,
   "id": "54b50104",
   "metadata": {
    "scrolled": true
   },
   "outputs": [
    {
     "data": {
      "text/plain": [
       "(1070, 6)"
      ]
     },
     "execution_count": 9,
     "metadata": {},
     "output_type": "execute_result"
    }
   ],
   "source": [
    "df.shape"
   ]
  },
  {
   "cell_type": "code",
   "execution_count": 10,
   "id": "b571ce3a",
   "metadata": {
    "scrolled": true
   },
   "outputs": [
    {
     "data": {
      "text/plain": [
       "array(['Gionee M7 Power', 'Gionee M7', 'Samsung Galaxy M21 6GB128GB', ...,\n",
       "       'Nokia 62 4GB64GB', 'Nokia 105 2019', 'Nokia 22 2GB16GB'],\n",
       "      dtype=object)"
      ]
     },
     "execution_count": 10,
     "metadata": {},
     "output_type": "execute_result"
    }
   ],
   "source": [
    "df['Phone Title'].unique()"
   ]
  },
  {
   "cell_type": "code",
   "execution_count": 11,
   "id": "25d4f3e1",
   "metadata": {
    "scrolled": true
   },
   "outputs": [
    {
     "data": {
      "text/plain": [
       "['Samsung Galaxy M21']"
      ]
     },
     "execution_count": 11,
     "metadata": {},
     "output_type": "execute_result"
    }
   ],
   "source": [
    "df.loc[2,'Phone Title'].rsplit(' ',1)[:-1]"
   ]
  },
  {
   "cell_type": "code",
   "execution_count": 12,
   "id": "dda5bdc1",
   "metadata": {},
   "outputs": [],
   "source": [
    "def ph_make(phm):\n",
    "    return phm.split(' ')[0]"
   ]
  },
  {
   "cell_type": "code",
   "execution_count": 13,
   "id": "938e2ce3",
   "metadata": {},
   "outputs": [],
   "source": [
    "df['phone_make'] = df['Phone Title'].apply(ph_make)"
   ]
  },
  {
   "cell_type": "code",
   "execution_count": 14,
   "id": "f33c06e2",
   "metadata": {},
   "outputs": [],
   "source": [
    "def sreen_s(s):\n",
    "    screen_s1 = s.split(':')[1]\n",
    "    screen_s2 =float(screen_s1.split(' ')[0])\n",
    "    return screen_s2"
   ]
  },
  {
   "cell_type": "code",
   "execution_count": 15,
   "id": "87d4ca4b",
   "metadata": {},
   "outputs": [],
   "source": [
    "df['screen_size'] = df['Specs'].apply(sreen_s)"
   ]
  },
  {
   "cell_type": "code",
   "execution_count": 16,
   "id": "03412a29",
   "metadata": {},
   "outputs": [],
   "source": [
    "def b_camera(bc):\n",
    "    return int(bc.split(' ')[2])*\\\n",
    "    int(bc.split('x')[1].replace('x','')[:-2])"
   ]
  },
  {
   "cell_type": "code",
   "execution_count": 17,
   "id": "c93b6b86",
   "metadata": {},
   "outputs": [],
   "source": [
    "#we now create new column for back_camera\n",
    "df['back_camera'] = df.Specs.apply(b_camera)"
   ]
  },
  {
   "cell_type": "code",
   "execution_count": 18,
   "id": "2b534a09",
   "metadata": {
    "scrolled": true
   },
   "outputs": [
    {
     "data": {
      "text/html": [
       "<div>\n",
       "<style scoped>\n",
       "    .dataframe tbody tr th:only-of-type {\n",
       "        vertical-align: middle;\n",
       "    }\n",
       "\n",
       "    .dataframe tbody tr th {\n",
       "        vertical-align: top;\n",
       "    }\n",
       "\n",
       "    .dataframe thead th {\n",
       "        text-align: right;\n",
       "    }\n",
       "</style>\n",
       "<table border=\"1\" class=\"dataframe\">\n",
       "  <thead>\n",
       "    <tr style=\"text-align: right;\">\n",
       "      <th></th>\n",
       "      <th>Phone Title</th>\n",
       "      <th>Specs</th>\n",
       "      <th>Price(Kshs)</th>\n",
       "      <th>Rating</th>\n",
       "      <th>Specs Score</th>\n",
       "      <th>Likes</th>\n",
       "      <th>phone_make</th>\n",
       "      <th>screen_size</th>\n",
       "      <th>back_camera</th>\n",
       "    </tr>\n",
       "  </thead>\n",
       "  <tbody>\n",
       "    <tr>\n",
       "      <th>471</th>\n",
       "      <td>HTC Desire 728G</td>\n",
       "      <td>Screen:5.5 inches, 720 x 1280 pixels,Front Cam...</td>\n",
       "      <td>12,299</td>\n",
       "      <td>3.3</td>\n",
       "      <td>45%</td>\n",
       "      <td>4</td>\n",
       "      <td>HTC</td>\n",
       "      <td>5.50</td>\n",
       "      <td>921600</td>\n",
       "    </tr>\n",
       "    <tr>\n",
       "      <th>138</th>\n",
       "      <td>Oppo A9 2020 8GB128GB</td>\n",
       "      <td>Screen:6.5 inches, 720 x 1600 pixels,Front Cam...</td>\n",
       "      <td>26,000</td>\n",
       "      <td>3.3</td>\n",
       "      <td>98%</td>\n",
       "      <td>153</td>\n",
       "      <td>Oppo</td>\n",
       "      <td>6.50</td>\n",
       "      <td>1152000</td>\n",
       "    </tr>\n",
       "    <tr>\n",
       "      <th>69</th>\n",
       "      <td>Sony Xperia L1</td>\n",
       "      <td>Screen:5.5 inches, 720 x 1280 pixels,Front Cam...</td>\n",
       "      <td>13,500</td>\n",
       "      <td>3.3</td>\n",
       "      <td>40%</td>\n",
       "      <td>15</td>\n",
       "      <td>Sony</td>\n",
       "      <td>5.50</td>\n",
       "      <td>921600</td>\n",
       "    </tr>\n",
       "    <tr>\n",
       "      <th>802</th>\n",
       "      <td>Motorola Moto X4</td>\n",
       "      <td>Screen:5.2 inches, 1080 x 1920 pixels,Front Ca...</td>\n",
       "      <td>12,990</td>\n",
       "      <td>3.0</td>\n",
       "      <td>56%</td>\n",
       "      <td>8</td>\n",
       "      <td>Motorola</td>\n",
       "      <td>5.20</td>\n",
       "      <td>2073600</td>\n",
       "    </tr>\n",
       "    <tr>\n",
       "      <th>683</th>\n",
       "      <td>Xiaomi Redmi Note 7 Pro 64GB</td>\n",
       "      <td>Screen:6.3 inches, 1080 x 2340 pixels,Front Ca...</td>\n",
       "      <td>4,499</td>\n",
       "      <td>4.2</td>\n",
       "      <td>86%</td>\n",
       "      <td>23</td>\n",
       "      <td>Xiaomi</td>\n",
       "      <td>6.30</td>\n",
       "      <td>2527200</td>\n",
       "    </tr>\n",
       "    <tr>\n",
       "      <th>524</th>\n",
       "      <td>Infinix Hot 9 Play 4GB64GB</td>\n",
       "      <td>Screen:6.82 inches, 720 x 1640 pixels,Front Ca...</td>\n",
       "      <td>869</td>\n",
       "      <td>3.8</td>\n",
       "      <td>64%</td>\n",
       "      <td>16</td>\n",
       "      <td>Infinix</td>\n",
       "      <td>6.82</td>\n",
       "      <td>1180800</td>\n",
       "    </tr>\n",
       "    <tr>\n",
       "      <th>703</th>\n",
       "      <td>Realme 7 Pro 8GB128GB</td>\n",
       "      <td>Screen:6.4 inches, 1080 x 2400 pixels,Front Ca...</td>\n",
       "      <td>4,499</td>\n",
       "      <td>5.0</td>\n",
       "      <td>100%</td>\n",
       "      <td>6</td>\n",
       "      <td>Realme</td>\n",
       "      <td>6.40</td>\n",
       "      <td>2592000</td>\n",
       "    </tr>\n",
       "    <tr>\n",
       "      <th>1018</th>\n",
       "      <td>Sony Xperia XA1 Plus</td>\n",
       "      <td>Screen:5.5 inches, 1080 x 1920 pixels,Front Ca...</td>\n",
       "      <td>584</td>\n",
       "      <td>4.3</td>\n",
       "      <td>67%</td>\n",
       "      <td>11</td>\n",
       "      <td>Sony</td>\n",
       "      <td>5.50</td>\n",
       "      <td>2073600</td>\n",
       "    </tr>\n",
       "    <tr>\n",
       "      <th>745</th>\n",
       "      <td>Huawei P8 Lite</td>\n",
       "      <td>Screen:5.0 inches, 720 x 1280 pixels,Front Cam...</td>\n",
       "      <td>769</td>\n",
       "      <td>3.3</td>\n",
       "      <td>44%</td>\n",
       "      <td>31</td>\n",
       "      <td>Huawei</td>\n",
       "      <td>5.00</td>\n",
       "      <td>921600</td>\n",
       "    </tr>\n",
       "    <tr>\n",
       "      <th>393</th>\n",
       "      <td>Huawei Nova</td>\n",
       "      <td>Screen:5.0 inches, 1080 x 1920 pixels,Front Ca...</td>\n",
       "      <td>1,510</td>\n",
       "      <td>3.8</td>\n",
       "      <td>55%</td>\n",
       "      <td>5</td>\n",
       "      <td>Huawei</td>\n",
       "      <td>5.00</td>\n",
       "      <td>2073600</td>\n",
       "    </tr>\n",
       "  </tbody>\n",
       "</table>\n",
       "</div>"
      ],
      "text/plain": [
       "                       Phone Title  \\\n",
       "471                HTC Desire 728G   \n",
       "138          Oppo A9 2020 8GB128GB   \n",
       "69                  Sony Xperia L1   \n",
       "802               Motorola Moto X4   \n",
       "683   Xiaomi Redmi Note 7 Pro 64GB   \n",
       "524     Infinix Hot 9 Play 4GB64GB   \n",
       "703          Realme 7 Pro 8GB128GB   \n",
       "1018          Sony Xperia XA1 Plus   \n",
       "745                 Huawei P8 Lite   \n",
       "393                    Huawei Nova   \n",
       "\n",
       "                                                  Specs Price(Kshs)  Rating  \\\n",
       "471   Screen:5.5 inches, 720 x 1280 pixels,Front Cam...      12,299     3.3   \n",
       "138   Screen:6.5 inches, 720 x 1600 pixels,Front Cam...      26,000     3.3   \n",
       "69    Screen:5.5 inches, 720 x 1280 pixels,Front Cam...      13,500     3.3   \n",
       "802   Screen:5.2 inches, 1080 x 1920 pixels,Front Ca...      12,990     3.0   \n",
       "683   Screen:6.3 inches, 1080 x 2340 pixels,Front Ca...       4,499     4.2   \n",
       "524   Screen:6.82 inches, 720 x 1640 pixels,Front Ca...         869     3.8   \n",
       "703   Screen:6.4 inches, 1080 x 2400 pixels,Front Ca...       4,499     5.0   \n",
       "1018  Screen:5.5 inches, 1080 x 1920 pixels,Front Ca...         584     4.3   \n",
       "745   Screen:5.0 inches, 720 x 1280 pixels,Front Cam...         769     3.3   \n",
       "393   Screen:5.0 inches, 1080 x 1920 pixels,Front Ca...       1,510     3.8   \n",
       "\n",
       "     Specs Score  Likes phone_make  screen_size  back_camera  \n",
       "471          45%      4        HTC         5.50       921600  \n",
       "138          98%    153       Oppo         6.50      1152000  \n",
       "69           40%     15       Sony         5.50       921600  \n",
       "802          56%      8   Motorola         5.20      2073600  \n",
       "683          86%     23     Xiaomi         6.30      2527200  \n",
       "524          64%     16    Infinix         6.82      1180800  \n",
       "703         100%      6     Realme         6.40      2592000  \n",
       "1018         67%     11       Sony         5.50      2073600  \n",
       "745          44%     31     Huawei         5.00       921600  \n",
       "393          55%      5     Huawei         5.00      2073600  "
      ]
     },
     "execution_count": 18,
     "metadata": {},
     "output_type": "execute_result"
    }
   ],
   "source": [
    "df.sample(10)"
   ]
  },
  {
   "cell_type": "code",
   "execution_count": 19,
   "id": "0a87a574",
   "metadata": {},
   "outputs": [],
   "source": [
    "def front_c(fca):\n",
    "    front1 = fca.split(':')[2]\n",
    "    front2 = front1.split(',')[0]\n",
    "    front3 = front2.split('MP',1)[0]\n",
    "    return front3"
   ]
  },
  {
   "cell_type": "code",
   "execution_count": 20,
   "id": "2a659f92",
   "metadata": {},
   "outputs": [],
   "source": [
    "df['front_camera'] = df['Specs'].apply(front_c)"
   ]
  },
  {
   "cell_type": "code",
   "execution_count": 21,
   "id": "ca5b549f",
   "metadata": {
    "scrolled": true
   },
   "outputs": [
    {
     "data": {
      "text/plain": [
       "array(['8', '20', '32', '10', '13', '40', '5', '16', '25', 'TripleOS',\n",
       "       '5.1', '2.2', '5 ', '24', '2', '16 ', '8 ', '2 ', '13 ', '4 ',\n",
       "       'NoOS', '7', '12', '1.2', '7 ', 'VGAOS', '-OS', 'YesOS', '48',\n",
       "       '2.1 ', '1.3 ', '0.3', '11'], dtype=object)"
      ]
     },
     "execution_count": 21,
     "metadata": {},
     "output_type": "execute_result"
    }
   ],
   "source": [
    "df['front_camera'].unique()"
   ]
  },
  {
   "cell_type": "code",
   "execution_count": 22,
   "id": "3ef4922d",
   "metadata": {
    "scrolled": true
   },
   "outputs": [
    {
     "data": {
      "text/plain": [
       "(1070, 10)"
      ]
     },
     "execution_count": 22,
     "metadata": {},
     "output_type": "execute_result"
    }
   ],
   "source": [
    "df.shape"
   ]
  },
  {
   "cell_type": "code",
   "execution_count": 23,
   "id": "3e40adf5",
   "metadata": {},
   "outputs": [],
   "source": [
    "def is_float(x):\n",
    "    try:\n",
    "        float(x)\n",
    "    except:\n",
    "        return False\n",
    "    return True"
   ]
  },
  {
   "cell_type": "code",
   "execution_count": 24,
   "id": "42d71034",
   "metadata": {
    "scrolled": true
   },
   "outputs": [
    {
     "data": {
      "text/html": [
       "<div>\n",
       "<style scoped>\n",
       "    .dataframe tbody tr th:only-of-type {\n",
       "        vertical-align: middle;\n",
       "    }\n",
       "\n",
       "    .dataframe tbody tr th {\n",
       "        vertical-align: top;\n",
       "    }\n",
       "\n",
       "    .dataframe thead th {\n",
       "        text-align: right;\n",
       "    }\n",
       "</style>\n",
       "<table border=\"1\" class=\"dataframe\">\n",
       "  <thead>\n",
       "    <tr style=\"text-align: right;\">\n",
       "      <th></th>\n",
       "      <th>Phone Title</th>\n",
       "      <th>Specs</th>\n",
       "      <th>Price(Kshs)</th>\n",
       "      <th>Rating</th>\n",
       "      <th>Specs Score</th>\n",
       "      <th>Likes</th>\n",
       "      <th>phone_make</th>\n",
       "      <th>screen_size</th>\n",
       "      <th>back_camera</th>\n",
       "      <th>front_camera</th>\n",
       "    </tr>\n",
       "  </thead>\n",
       "  <tbody>\n",
       "    <tr>\n",
       "      <th>53</th>\n",
       "      <td>Samsung Galaxy A80</td>\n",
       "      <td>Screen:6.7 inches, 1080 x 2400 pixels,Front Ca...</td>\n",
       "      <td>40,499</td>\n",
       "      <td>3.3</td>\n",
       "      <td>97%</td>\n",
       "      <td>72</td>\n",
       "      <td>Samsung</td>\n",
       "      <td>6.70</td>\n",
       "      <td>2592000</td>\n",
       "      <td>TripleOS</td>\n",
       "    </tr>\n",
       "    <tr>\n",
       "      <th>180</th>\n",
       "      <td>Nokia 210</td>\n",
       "      <td>Screen:2.4 inches, 240 x 320 pixels,Front Came...</td>\n",
       "      <td>3,600</td>\n",
       "      <td>2.5</td>\n",
       "      <td>11%</td>\n",
       "      <td>7</td>\n",
       "      <td>Nokia</td>\n",
       "      <td>2.40</td>\n",
       "      <td>76800</td>\n",
       "      <td>NoOS</td>\n",
       "    </tr>\n",
       "    <tr>\n",
       "      <th>192</th>\n",
       "      <td>Nokia 8110 4G</td>\n",
       "      <td>Screen:2.4 inches, 240 x 320 pixels,Front Came...</td>\n",
       "      <td>16,999</td>\n",
       "      <td>3.8</td>\n",
       "      <td>19%</td>\n",
       "      <td>16</td>\n",
       "      <td>Nokia</td>\n",
       "      <td>2.40</td>\n",
       "      <td>76800</td>\n",
       "      <td>NoOS</td>\n",
       "    </tr>\n",
       "    <tr>\n",
       "      <th>281</th>\n",
       "      <td>Tecno W2</td>\n",
       "      <td>Screen:4.5 inches, 480 x 854 pixels,Front Came...</td>\n",
       "      <td>5,500</td>\n",
       "      <td>3.6</td>\n",
       "      <td>28%</td>\n",
       "      <td>27</td>\n",
       "      <td>Tecno</td>\n",
       "      <td>4.50</td>\n",
       "      <td>409920</td>\n",
       "      <td>VGAOS</td>\n",
       "    </tr>\n",
       "    <tr>\n",
       "      <th>512</th>\n",
       "      <td>Lava Prime X</td>\n",
       "      <td>Screen:1.8 inches, 128 x 160 pixels,Front Came...</td>\n",
       "      <td>2,800</td>\n",
       "      <td>4.0</td>\n",
       "      <td>8%</td>\n",
       "      <td>1</td>\n",
       "      <td>Lava</td>\n",
       "      <td>1.80</td>\n",
       "      <td>20480</td>\n",
       "      <td>-OS</td>\n",
       "    </tr>\n",
       "    <tr>\n",
       "      <th>513</th>\n",
       "      <td>Lava A1</td>\n",
       "      <td>Screen:1.8 inches, 128 x 160 pixels,Front Came...</td>\n",
       "      <td>3,000</td>\n",
       "      <td>4.5</td>\n",
       "      <td>8%</td>\n",
       "      <td>4</td>\n",
       "      <td>Lava</td>\n",
       "      <td>1.80</td>\n",
       "      <td>20480</td>\n",
       "      <td>-OS</td>\n",
       "    </tr>\n",
       "    <tr>\n",
       "      <th>514</th>\n",
       "      <td>Lava Champion C1</td>\n",
       "      <td>Screen:2.4 inches, 240 x 320 pixels,Front Came...</td>\n",
       "      <td>2,500</td>\n",
       "      <td>2.0</td>\n",
       "      <td>10%</td>\n",
       "      <td>3</td>\n",
       "      <td>Lava</td>\n",
       "      <td>2.40</td>\n",
       "      <td>76800</td>\n",
       "      <td>YesOS</td>\n",
       "    </tr>\n",
       "    <tr>\n",
       "      <th>515</th>\n",
       "      <td>Lava Captain N1</td>\n",
       "      <td>Screen:1.8 inches, 128 x 160 pixels,Front Came...</td>\n",
       "      <td>1,700</td>\n",
       "      <td>4.0</td>\n",
       "      <td>8%</td>\n",
       "      <td>2</td>\n",
       "      <td>Lava</td>\n",
       "      <td>1.80</td>\n",
       "      <td>20480</td>\n",
       "      <td>NoOS</td>\n",
       "    </tr>\n",
       "    <tr>\n",
       "      <th>945</th>\n",
       "      <td>Huawei Mate X</td>\n",
       "      <td>Screen:8.0 inches, 2200 x 2480 pixels,, 6.6 in...</td>\n",
       "      <td>44,990</td>\n",
       "      <td>3.7</td>\n",
       "      <td>100%</td>\n",
       "      <td>26</td>\n",
       "      <td>Huawei</td>\n",
       "      <td>8.00</td>\n",
       "      <td>5456000</td>\n",
       "      <td>-OS</td>\n",
       "    </tr>\n",
       "    <tr>\n",
       "      <th>1124</th>\n",
       "      <td>Nokia 5310 2020</td>\n",
       "      <td>Screen:2.4 inches, 240 x 320 pixels,Front Came...</td>\n",
       "      <td>5,499</td>\n",
       "      <td>3.7</td>\n",
       "      <td>25%</td>\n",
       "      <td>13</td>\n",
       "      <td>Nokia</td>\n",
       "      <td>2.40</td>\n",
       "      <td>76800</td>\n",
       "      <td>NoOS</td>\n",
       "    </tr>\n",
       "    <tr>\n",
       "      <th>1131</th>\n",
       "      <td>Nokia 800 Tough</td>\n",
       "      <td>Screen:2.4 inches, 240 x 320 pixels,Front Came...</td>\n",
       "      <td>11,000</td>\n",
       "      <td>5.0</td>\n",
       "      <td>21%</td>\n",
       "      <td>14</td>\n",
       "      <td>Nokia</td>\n",
       "      <td>2.40</td>\n",
       "      <td>76800</td>\n",
       "      <td>NoOS</td>\n",
       "    </tr>\n",
       "    <tr>\n",
       "      <th>1143</th>\n",
       "      <td>Nokia 105 2019</td>\n",
       "      <td>Screen:1.77 inches, 120 x 160 pixels,Front Cam...</td>\n",
       "      <td>1,900</td>\n",
       "      <td>3.0</td>\n",
       "      <td>8%</td>\n",
       "      <td>11</td>\n",
       "      <td>Nokia</td>\n",
       "      <td>1.77</td>\n",
       "      <td>19200</td>\n",
       "      <td>NoOS</td>\n",
       "    </tr>\n",
       "  </tbody>\n",
       "</table>\n",
       "</div>"
      ],
      "text/plain": [
       "             Phone Title                                              Specs  \\\n",
       "53    Samsung Galaxy A80  Screen:6.7 inches, 1080 x 2400 pixels,Front Ca...   \n",
       "180            Nokia 210  Screen:2.4 inches, 240 x 320 pixels,Front Came...   \n",
       "192        Nokia 8110 4G  Screen:2.4 inches, 240 x 320 pixels,Front Came...   \n",
       "281             Tecno W2  Screen:4.5 inches, 480 x 854 pixels,Front Came...   \n",
       "512         Lava Prime X  Screen:1.8 inches, 128 x 160 pixels,Front Came...   \n",
       "513              Lava A1  Screen:1.8 inches, 128 x 160 pixels,Front Came...   \n",
       "514     Lava Champion C1  Screen:2.4 inches, 240 x 320 pixels,Front Came...   \n",
       "515      Lava Captain N1  Screen:1.8 inches, 128 x 160 pixels,Front Came...   \n",
       "945        Huawei Mate X  Screen:8.0 inches, 2200 x 2480 pixels,, 6.6 in...   \n",
       "1124     Nokia 5310 2020  Screen:2.4 inches, 240 x 320 pixels,Front Came...   \n",
       "1131     Nokia 800 Tough  Screen:2.4 inches, 240 x 320 pixels,Front Came...   \n",
       "1143      Nokia 105 2019  Screen:1.77 inches, 120 x 160 pixels,Front Cam...   \n",
       "\n",
       "     Price(Kshs)  Rating Specs Score  Likes phone_make  screen_size  \\\n",
       "53        40,499     3.3         97%     72    Samsung         6.70   \n",
       "180        3,600     2.5         11%      7      Nokia         2.40   \n",
       "192       16,999     3.8         19%     16      Nokia         2.40   \n",
       "281        5,500     3.6         28%     27      Tecno         4.50   \n",
       "512        2,800     4.0          8%      1       Lava         1.80   \n",
       "513        3,000     4.5          8%      4       Lava         1.80   \n",
       "514        2,500     2.0         10%      3       Lava         2.40   \n",
       "515        1,700     4.0          8%      2       Lava         1.80   \n",
       "945       44,990     3.7        100%     26     Huawei         8.00   \n",
       "1124       5,499     3.7         25%     13      Nokia         2.40   \n",
       "1131      11,000     5.0         21%     14      Nokia         2.40   \n",
       "1143       1,900     3.0          8%     11      Nokia         1.77   \n",
       "\n",
       "      back_camera front_camera  \n",
       "53        2592000     TripleOS  \n",
       "180         76800         NoOS  \n",
       "192         76800         NoOS  \n",
       "281        409920        VGAOS  \n",
       "512         20480          -OS  \n",
       "513         20480          -OS  \n",
       "514         76800        YesOS  \n",
       "515         20480         NoOS  \n",
       "945       5456000          -OS  \n",
       "1124        76800         NoOS  \n",
       "1131        76800         NoOS  \n",
       "1143        19200         NoOS  "
      ]
     },
     "execution_count": 24,
     "metadata": {},
     "output_type": "execute_result"
    }
   ],
   "source": [
    "df[~df['front_camera'].apply(is_float)]"
   ]
  },
  {
   "cell_type": "code",
   "execution_count": 25,
   "id": "250b8895",
   "metadata": {},
   "outputs": [],
   "source": [
    "df = df[df['front_camera'].apply(is_float)]"
   ]
  },
  {
   "cell_type": "code",
   "execution_count": 26,
   "id": "fc668806",
   "metadata": {},
   "outputs": [],
   "source": [
    "df[['front_camera']] = df[['front_camera']].apply(pd.to_numeric)"
   ]
  },
  {
   "cell_type": "code",
   "execution_count": 27,
   "id": "296fb082",
   "metadata": {
    "scrolled": true
   },
   "outputs": [
    {
     "data": {
      "text/plain": [
       "array([ 8. , 20. , 32. , 10. , 13. , 40. ,  5. , 16. , 25. ,  5.1,  2.2,\n",
       "       24. ,  2. ,  4. ,  7. , 12. ,  1.2, 48. ,  2.1,  1.3,  0.3, 11. ])"
      ]
     },
     "execution_count": 27,
     "metadata": {},
     "output_type": "execute_result"
    }
   ],
   "source": [
    "df.front_camera.unique()"
   ]
  },
  {
   "cell_type": "code",
   "execution_count": 28,
   "id": "565ec311",
   "metadata": {
    "scrolled": true
   },
   "outputs": [
    {
     "data": {
      "text/plain": [
       "Phone Title      object\n",
       "Specs            object\n",
       "Price(Kshs)      object\n",
       "Rating          float64\n",
       "Specs Score      object\n",
       "Likes             int64\n",
       "phone_make       object\n",
       "screen_size     float64\n",
       "back_camera       int64\n",
       "front_camera    float64\n",
       "dtype: object"
      ]
     },
     "execution_count": 28,
     "metadata": {},
     "output_type": "execute_result"
    }
   ],
   "source": [
    "df.dtypes"
   ]
  },
  {
   "cell_type": "code",
   "execution_count": 29,
   "id": "d7b54835",
   "metadata": {
    "scrolled": true
   },
   "outputs": [
    {
     "data": {
      "text/plain": [
       "(1058, 10)"
      ]
     },
     "execution_count": 29,
     "metadata": {},
     "output_type": "execute_result"
    }
   ],
   "source": [
    "df.shape"
   ]
  },
  {
   "cell_type": "code",
   "execution_count": 30,
   "id": "5a56d80e",
   "metadata": {},
   "outputs": [],
   "source": [
    "def oper_sy(os):\n",
    "    os1 = os.split(':')[3]\n",
    "    os2 = os1.split(' ')[0]\n",
    "    os3 = os2.split(',')[0]\n",
    "    return os3"
   ]
  },
  {
   "cell_type": "code",
   "execution_count": 31,
   "id": "a6cbefe7",
   "metadata": {},
   "outputs": [],
   "source": [
    "df['OS'] = df['Specs'].apply(oper_sy)"
   ]
  },
  {
   "cell_type": "code",
   "execution_count": 32,
   "id": "239d19ee",
   "metadata": {
    "scrolled": true
   },
   "outputs": [
    {
     "data": {
      "text/plain": [
       "Android       1010\n",
       "iOS             43\n",
       "-                2\n",
       "BlackBerry       2\n",
       "KaiOS            1\n",
       "Name: OS, dtype: int64"
      ]
     },
     "execution_count": 32,
     "metadata": {},
     "output_type": "execute_result"
    }
   ],
   "source": [
    "df.OS.value_counts()"
   ]
  },
  {
   "cell_type": "code",
   "execution_count": 33,
   "id": "805726c9",
   "metadata": {},
   "outputs": [],
   "source": [
    "df.drop(df[(df['OS']=='-')].index, inplace=True)\n",
    "df.drop(df[(df['OS']=='BlackBerry')].index, inplace=True)\n",
    "df.drop(df[(df['OS']=='KaiOS')].index, inplace=True)"
   ]
  },
  {
   "cell_type": "code",
   "execution_count": 34,
   "id": "a7184699",
   "metadata": {
    "scrolled": true
   },
   "outputs": [
    {
     "data": {
      "text/plain": [
       "Android    1010\n",
       "iOS          43\n",
       "Name: OS, dtype: int64"
      ]
     },
     "execution_count": 34,
     "metadata": {},
     "output_type": "execute_result"
    }
   ],
   "source": [
    "df.OS.value_counts()"
   ]
  },
  {
   "cell_type": "code",
   "execution_count": 35,
   "id": "7d90cfc9",
   "metadata": {
    "scrolled": true
   },
   "outputs": [
    {
     "data": {
      "text/html": [
       "<div>\n",
       "<style scoped>\n",
       "    .dataframe tbody tr th:only-of-type {\n",
       "        vertical-align: middle;\n",
       "    }\n",
       "\n",
       "    .dataframe tbody tr th {\n",
       "        vertical-align: top;\n",
       "    }\n",
       "\n",
       "    .dataframe thead th {\n",
       "        text-align: right;\n",
       "    }\n",
       "</style>\n",
       "<table border=\"1\" class=\"dataframe\">\n",
       "  <thead>\n",
       "    <tr style=\"text-align: right;\">\n",
       "      <th></th>\n",
       "      <th>Phone Title</th>\n",
       "      <th>Specs</th>\n",
       "      <th>Price(Kshs)</th>\n",
       "      <th>Rating</th>\n",
       "      <th>Specs Score</th>\n",
       "      <th>Likes</th>\n",
       "      <th>phone_make</th>\n",
       "      <th>screen_size</th>\n",
       "      <th>back_camera</th>\n",
       "      <th>front_camera</th>\n",
       "      <th>OS</th>\n",
       "    </tr>\n",
       "  </thead>\n",
       "  <tbody>\n",
       "    <tr>\n",
       "      <th>106</th>\n",
       "      <td>Tecno F1</td>\n",
       "      <td>Screen:5.0 inches, 854 x 480 pixels,Front Came...</td>\n",
       "      <td>6,500</td>\n",
       "      <td>3.4</td>\n",
       "      <td>27%</td>\n",
       "      <td>98</td>\n",
       "      <td>Tecno</td>\n",
       "      <td>5.00</td>\n",
       "      <td>409920</td>\n",
       "      <td>2.0</td>\n",
       "      <td>Android</td>\n",
       "    </tr>\n",
       "    <tr>\n",
       "      <th>977</th>\n",
       "      <td>Tecno Camon 12 Air 3GB32GB</td>\n",
       "      <td>Screen:6.55 inches, 720 x 1600 pixels,Front Ca...</td>\n",
       "      <td>13,500</td>\n",
       "      <td>2.3</td>\n",
       "      <td>52%</td>\n",
       "      <td>78</td>\n",
       "      <td>Tecno</td>\n",
       "      <td>6.55</td>\n",
       "      <td>1152000</td>\n",
       "      <td>8.0</td>\n",
       "      <td>Android</td>\n",
       "    </tr>\n",
       "    <tr>\n",
       "      <th>199</th>\n",
       "      <td>Nokia 1</td>\n",
       "      <td>Screen:4.5 inches, 480 x 854 pixels,Front Came...</td>\n",
       "      <td>4,599</td>\n",
       "      <td>3.6</td>\n",
       "      <td>26%</td>\n",
       "      <td>17</td>\n",
       "      <td>Nokia</td>\n",
       "      <td>4.50</td>\n",
       "      <td>409920</td>\n",
       "      <td>2.0</td>\n",
       "      <td>Android</td>\n",
       "    </tr>\n",
       "    <tr>\n",
       "      <th>559</th>\n",
       "      <td>LG G5 64GB</td>\n",
       "      <td>Screen:5.3 inches, 1440 x 2560 pixels,Front Ca...</td>\n",
       "      <td>1,190</td>\n",
       "      <td>4.0</td>\n",
       "      <td>58%</td>\n",
       "      <td>12</td>\n",
       "      <td>LG</td>\n",
       "      <td>5.30</td>\n",
       "      <td>3686400</td>\n",
       "      <td>8.0</td>\n",
       "      <td>Android</td>\n",
       "    </tr>\n",
       "    <tr>\n",
       "      <th>911</th>\n",
       "      <td>Samsung Galaxy C7 64 GB</td>\n",
       "      <td>Screen:5.7 inches, 1080 x 1920 pixels,Front Ca...</td>\n",
       "      <td>1,185</td>\n",
       "      <td>4.3</td>\n",
       "      <td>61%</td>\n",
       "      <td>20</td>\n",
       "      <td>Samsung</td>\n",
       "      <td>5.70</td>\n",
       "      <td>2073600</td>\n",
       "      <td>8.0</td>\n",
       "      <td>Android</td>\n",
       "    </tr>\n",
       "  </tbody>\n",
       "</table>\n",
       "</div>"
      ],
      "text/plain": [
       "                    Phone Title  \\\n",
       "106                    Tecno F1   \n",
       "977  Tecno Camon 12 Air 3GB32GB   \n",
       "199                     Nokia 1   \n",
       "559                  LG G5 64GB   \n",
       "911     Samsung Galaxy C7 64 GB   \n",
       "\n",
       "                                                 Specs Price(Kshs)  Rating  \\\n",
       "106  Screen:5.0 inches, 854 x 480 pixels,Front Came...       6,500     3.4   \n",
       "977  Screen:6.55 inches, 720 x 1600 pixels,Front Ca...      13,500     2.3   \n",
       "199  Screen:4.5 inches, 480 x 854 pixels,Front Came...       4,599     3.6   \n",
       "559  Screen:5.3 inches, 1440 x 2560 pixels,Front Ca...       1,190     4.0   \n",
       "911  Screen:5.7 inches, 1080 x 1920 pixels,Front Ca...       1,185     4.3   \n",
       "\n",
       "    Specs Score  Likes phone_make  screen_size  back_camera  front_camera  \\\n",
       "106         27%     98      Tecno         5.00       409920           2.0   \n",
       "977         52%     78      Tecno         6.55      1152000           8.0   \n",
       "199         26%     17      Nokia         4.50       409920           2.0   \n",
       "559         58%     12         LG         5.30      3686400           8.0   \n",
       "911         61%     20    Samsung         5.70      2073600           8.0   \n",
       "\n",
       "          OS  \n",
       "106  Android  \n",
       "977  Android  \n",
       "199  Android  \n",
       "559  Android  \n",
       "911  Android  "
      ]
     },
     "execution_count": 35,
     "metadata": {},
     "output_type": "execute_result"
    }
   ],
   "source": [
    "df.sample(5)"
   ]
  },
  {
   "cell_type": "code",
   "execution_count": 36,
   "id": "c4a3dc26",
   "metadata": {
    "scrolled": true
   },
   "outputs": [
    {
     "data": {
      "text/plain": [
       "Phone Title      object\n",
       "Specs            object\n",
       "Price(Kshs)      object\n",
       "Rating          float64\n",
       "Specs Score      object\n",
       "Likes             int64\n",
       "phone_make       object\n",
       "screen_size     float64\n",
       "back_camera       int64\n",
       "front_camera    float64\n",
       "OS               object\n",
       "dtype: object"
      ]
     },
     "execution_count": 36,
     "metadata": {},
     "output_type": "execute_result"
    }
   ],
   "source": [
    "df.dtypes"
   ]
  },
  {
   "cell_type": "code",
   "execution_count": 37,
   "id": "4d4dcaae",
   "metadata": {},
   "outputs": [],
   "source": [
    "def rom_s(rm):\n",
    "    s1 = rm.split('Storage:')[1]\n",
    "    s2 = s1.split(',')[0]\n",
    "    s3 = s2.split('GB')[0]\n",
    "    return s3"
   ]
  },
  {
   "cell_type": "code",
   "execution_count": 38,
   "id": "369acd36",
   "metadata": {},
   "outputs": [],
   "source": [
    "df['ROM'] = df['Specs'].apply(rom_s)"
   ]
  },
  {
   "cell_type": "code",
   "execution_count": 39,
   "id": "5d65f7fd",
   "metadata": {},
   "outputs": [],
   "source": [
    "df.drop(df[(df['ROM']=='1TB')].index, inplace=True)"
   ]
  },
  {
   "cell_type": "code",
   "execution_count": 40,
   "id": "1fcd8e68",
   "metadata": {},
   "outputs": [],
   "source": [
    "df[['ROM']] = df[['ROM']].apply(pd.to_numeric)"
   ]
  },
  {
   "cell_type": "code",
   "execution_count": 41,
   "id": "befbbae9",
   "metadata": {},
   "outputs": [],
   "source": [
    "def ram_s(ram):\n",
    "    ram = ram.split('RAM:')[1]\n",
    "    ram1 = float(ram.split('GB')[0])\n",
    "    return ram1"
   ]
  },
  {
   "cell_type": "code",
   "execution_count": 42,
   "id": "f3faeda0",
   "metadata": {},
   "outputs": [],
   "source": [
    "df['RAM'] = df['Specs'].apply(ram_s)"
   ]
  },
  {
   "cell_type": "code",
   "execution_count": 43,
   "id": "c9b705be",
   "metadata": {},
   "outputs": [],
   "source": [
    "def bat_p(bp):\n",
    "    bat = bp.split('Battery:')[1]\n",
    "    bat1 = bat.split('mAh')[0]\n",
    "    return bat1"
   ]
  },
  {
   "cell_type": "code",
   "execution_count": 44,
   "id": "7a37dd81",
   "metadata": {},
   "outputs": [],
   "source": [
    "df['Battery'] = df['Specs'].apply(bat_p)"
   ]
  },
  {
   "cell_type": "code",
   "execution_count": 45,
   "id": "7de0c486",
   "metadata": {},
   "outputs": [],
   "source": [
    "df.drop(df[(df['Battery']=='-')].index, inplace=True)"
   ]
  },
  {
   "cell_type": "code",
   "execution_count": 46,
   "id": "bef5d794",
   "metadata": {},
   "outputs": [],
   "source": [
    "df[['Battery']] = df[['Battery']].apply(pd.to_numeric)"
   ]
  },
  {
   "cell_type": "code",
   "execution_count": 47,
   "id": "142dd774",
   "metadata": {},
   "outputs": [],
   "source": [
    "def spec_sc(sc):\n",
    "    return int(sc.split('%')[0])"
   ]
  },
  {
   "cell_type": "code",
   "execution_count": 48,
   "id": "39382950",
   "metadata": {},
   "outputs": [],
   "source": [
    "df['specs_score'] = df['Specs Score'].apply(spec_sc)"
   ]
  },
  {
   "cell_type": "code",
   "execution_count": 49,
   "id": "fa40445d",
   "metadata": {},
   "outputs": [],
   "source": [
    "def price_cost(x):\n",
    "    tokens = x.split(',')\n",
    "    if len(tokens)==2:\n",
    "        return (float(tokens[0])*1000+float(tokens[1]))\n",
    "    else:\n",
    "        return float(tokens[0])\n",
    "    try:\n",
    "        return float(x)\n",
    "    except:\n",
    "        return None"
   ]
  },
  {
   "cell_type": "code",
   "execution_count": 50,
   "id": "3e053b31",
   "metadata": {},
   "outputs": [],
   "source": [
    "df['price'] = df['Price(Kshs)'].apply(price_cost)"
   ]
  },
  {
   "cell_type": "code",
   "execution_count": 51,
   "id": "f5383850",
   "metadata": {
    "scrolled": false
   },
   "outputs": [
    {
     "data": {
      "text/html": [
       "<div>\n",
       "<style scoped>\n",
       "    .dataframe tbody tr th:only-of-type {\n",
       "        vertical-align: middle;\n",
       "    }\n",
       "\n",
       "    .dataframe tbody tr th {\n",
       "        vertical-align: top;\n",
       "    }\n",
       "\n",
       "    .dataframe thead th {\n",
       "        text-align: right;\n",
       "    }\n",
       "</style>\n",
       "<table border=\"1\" class=\"dataframe\">\n",
       "  <thead>\n",
       "    <tr style=\"text-align: right;\">\n",
       "      <th></th>\n",
       "      <th>Phone Title</th>\n",
       "      <th>Specs</th>\n",
       "      <th>Price(Kshs)</th>\n",
       "      <th>Rating</th>\n",
       "      <th>Specs Score</th>\n",
       "      <th>Likes</th>\n",
       "      <th>phone_make</th>\n",
       "      <th>screen_size</th>\n",
       "      <th>back_camera</th>\n",
       "      <th>front_camera</th>\n",
       "      <th>OS</th>\n",
       "      <th>ROM</th>\n",
       "      <th>RAM</th>\n",
       "      <th>Battery</th>\n",
       "      <th>specs_score</th>\n",
       "      <th>price</th>\n",
       "    </tr>\n",
       "  </thead>\n",
       "  <tbody>\n",
       "    <tr>\n",
       "      <th>941</th>\n",
       "      <td>Huawei P30 Lite</td>\n",
       "      <td>Screen:6.15 inches, 1080 x 2312 pixels,Front C...</td>\n",
       "      <td>24,500</td>\n",
       "      <td>3.8</td>\n",
       "      <td>72%</td>\n",
       "      <td>146</td>\n",
       "      <td>Huawei</td>\n",
       "      <td>6.15</td>\n",
       "      <td>2496960</td>\n",
       "      <td>32.0</td>\n",
       "      <td>Android</td>\n",
       "      <td>128</td>\n",
       "      <td>4.0</td>\n",
       "      <td>3340</td>\n",
       "      <td>72</td>\n",
       "      <td>24500.0</td>\n",
       "    </tr>\n",
       "    <tr>\n",
       "      <th>662</th>\n",
       "      <td>Huawei 9X 6GB128GB</td>\n",
       "      <td>Screen:6.59 inches, 1080 x 2340 pixels,Front C...</td>\n",
       "      <td>1,450</td>\n",
       "      <td>5.0</td>\n",
       "      <td>95%</td>\n",
       "      <td>16</td>\n",
       "      <td>Huawei</td>\n",
       "      <td>6.59</td>\n",
       "      <td>2527200</td>\n",
       "      <td>16.0</td>\n",
       "      <td>Android</td>\n",
       "      <td>128</td>\n",
       "      <td>6.0</td>\n",
       "      <td>4000</td>\n",
       "      <td>95</td>\n",
       "      <td>1450.0</td>\n",
       "    </tr>\n",
       "    <tr>\n",
       "      <th>300</th>\n",
       "      <td>Oppo A92s 6GB128GB</td>\n",
       "      <td>Screen:6.57 inches, 1080 x 2400 pixels,Front C...</td>\n",
       "      <td>530</td>\n",
       "      <td>3.0</td>\n",
       "      <td>93%</td>\n",
       "      <td>4</td>\n",
       "      <td>Oppo</td>\n",
       "      <td>6.57</td>\n",
       "      <td>2592000</td>\n",
       "      <td>16.0</td>\n",
       "      <td>Android</td>\n",
       "      <td>128</td>\n",
       "      <td>6.0</td>\n",
       "      <td>4000</td>\n",
       "      <td>93</td>\n",
       "      <td>530.0</td>\n",
       "    </tr>\n",
       "    <tr>\n",
       "      <th>993</th>\n",
       "      <td>BlackBerry Key2 64GB</td>\n",
       "      <td>Screen:4.5 inches, 1080 x 1620 pixels,Front Ca...</td>\n",
       "      <td>58,500</td>\n",
       "      <td>3.1</td>\n",
       "      <td>64%</td>\n",
       "      <td>15</td>\n",
       "      <td>BlackBerry</td>\n",
       "      <td>4.50</td>\n",
       "      <td>1749600</td>\n",
       "      <td>8.0</td>\n",
       "      <td>Android</td>\n",
       "      <td>64</td>\n",
       "      <td>6.0</td>\n",
       "      <td>3500</td>\n",
       "      <td>64</td>\n",
       "      <td>58500.0</td>\n",
       "    </tr>\n",
       "    <tr>\n",
       "      <th>1079</th>\n",
       "      <td>Vivo Y15 4GB64GB</td>\n",
       "      <td>Screen:6.35 inches, 720 x 1544 pixels,Front Ca...</td>\n",
       "      <td>21,499</td>\n",
       "      <td>3.8</td>\n",
       "      <td>62%</td>\n",
       "      <td>20</td>\n",
       "      <td>Vivo</td>\n",
       "      <td>6.35</td>\n",
       "      <td>1111680</td>\n",
       "      <td>16.0</td>\n",
       "      <td>Android</td>\n",
       "      <td>64</td>\n",
       "      <td>4.0</td>\n",
       "      <td>5000</td>\n",
       "      <td>62</td>\n",
       "      <td>21499.0</td>\n",
       "    </tr>\n",
       "  </tbody>\n",
       "</table>\n",
       "</div>"
      ],
      "text/plain": [
       "               Phone Title                                              Specs  \\\n",
       "941        Huawei P30 Lite  Screen:6.15 inches, 1080 x 2312 pixels,Front C...   \n",
       "662     Huawei 9X 6GB128GB  Screen:6.59 inches, 1080 x 2340 pixels,Front C...   \n",
       "300     Oppo A92s 6GB128GB  Screen:6.57 inches, 1080 x 2400 pixels,Front C...   \n",
       "993   BlackBerry Key2 64GB  Screen:4.5 inches, 1080 x 1620 pixels,Front Ca...   \n",
       "1079      Vivo Y15 4GB64GB  Screen:6.35 inches, 720 x 1544 pixels,Front Ca...   \n",
       "\n",
       "     Price(Kshs)  Rating Specs Score  Likes  phone_make  screen_size  \\\n",
       "941       24,500     3.8         72%    146      Huawei         6.15   \n",
       "662        1,450     5.0         95%     16      Huawei         6.59   \n",
       "300          530     3.0         93%      4        Oppo         6.57   \n",
       "993       58,500     3.1         64%     15  BlackBerry         4.50   \n",
       "1079      21,499     3.8         62%     20        Vivo         6.35   \n",
       "\n",
       "      back_camera  front_camera       OS  ROM  RAM  Battery  specs_score  \\\n",
       "941       2496960          32.0  Android  128  4.0     3340           72   \n",
       "662       2527200          16.0  Android  128  6.0     4000           95   \n",
       "300       2592000          16.0  Android  128  6.0     4000           93   \n",
       "993       1749600           8.0  Android   64  6.0     3500           64   \n",
       "1079      1111680          16.0  Android   64  4.0     5000           62   \n",
       "\n",
       "        price  \n",
       "941   24500.0  \n",
       "662    1450.0  \n",
       "300     530.0  \n",
       "993   58500.0  \n",
       "1079  21499.0  "
      ]
     },
     "execution_count": 51,
     "metadata": {},
     "output_type": "execute_result"
    }
   ],
   "source": [
    "df.sample(5)"
   ]
  },
  {
   "cell_type": "code",
   "execution_count": 52,
   "id": "ca0519da",
   "metadata": {},
   "outputs": [],
   "source": [
    "cols_to_drop = ['Phone Title','Specs','Price(Kshs)','Specs Score']"
   ]
  },
  {
   "cell_type": "code",
   "execution_count": 53,
   "id": "ba1d0c76",
   "metadata": {
    "scrolled": true
   },
   "outputs": [],
   "source": [
    "df1 = df.copy()\n",
    "df1 = df.drop(cols_to_drop, axis = 'columns')\n"
   ]
  },
  {
   "cell_type": "code",
   "execution_count": 54,
   "id": "9c8e63af",
   "metadata": {
    "scrolled": true
   },
   "outputs": [
    {
     "data": {
      "text/html": [
       "<div>\n",
       "<style scoped>\n",
       "    .dataframe tbody tr th:only-of-type {\n",
       "        vertical-align: middle;\n",
       "    }\n",
       "\n",
       "    .dataframe tbody tr th {\n",
       "        vertical-align: top;\n",
       "    }\n",
       "\n",
       "    .dataframe thead th {\n",
       "        text-align: right;\n",
       "    }\n",
       "</style>\n",
       "<table border=\"1\" class=\"dataframe\">\n",
       "  <thead>\n",
       "    <tr style=\"text-align: right;\">\n",
       "      <th></th>\n",
       "      <th>Rating</th>\n",
       "      <th>Likes</th>\n",
       "      <th>phone_make</th>\n",
       "      <th>screen_size</th>\n",
       "      <th>back_camera</th>\n",
       "      <th>front_camera</th>\n",
       "      <th>OS</th>\n",
       "      <th>ROM</th>\n",
       "      <th>RAM</th>\n",
       "      <th>Battery</th>\n",
       "      <th>specs_score</th>\n",
       "      <th>price</th>\n",
       "    </tr>\n",
       "  </thead>\n",
       "  <tbody>\n",
       "    <tr>\n",
       "      <th>0</th>\n",
       "      <td>4.0</td>\n",
       "      <td>13</td>\n",
       "      <td>Gionee</td>\n",
       "      <td>6.00</td>\n",
       "      <td>1036800</td>\n",
       "      <td>8.0</td>\n",
       "      <td>Android</td>\n",
       "      <td>64</td>\n",
       "      <td>4.0</td>\n",
       "      <td>4000</td>\n",
       "      <td>56</td>\n",
       "      <td>11800.0</td>\n",
       "    </tr>\n",
       "    <tr>\n",
       "      <th>1</th>\n",
       "      <td>4.5</td>\n",
       "      <td>8</td>\n",
       "      <td>Gionee</td>\n",
       "      <td>6.01</td>\n",
       "      <td>2332800</td>\n",
       "      <td>8.0</td>\n",
       "      <td>Android</td>\n",
       "      <td>64</td>\n",
       "      <td>6.0</td>\n",
       "      <td>4000</td>\n",
       "      <td>69</td>\n",
       "      <td>7999.0</td>\n",
       "    </tr>\n",
       "    <tr>\n",
       "      <th>2</th>\n",
       "      <td>4.3</td>\n",
       "      <td>30</td>\n",
       "      <td>Samsung</td>\n",
       "      <td>6.40</td>\n",
       "      <td>2527200</td>\n",
       "      <td>20.0</td>\n",
       "      <td>Android</td>\n",
       "      <td>128</td>\n",
       "      <td>6.0</td>\n",
       "      <td>6000</td>\n",
       "      <td>100</td>\n",
       "      <td>22590.0</td>\n",
       "    </tr>\n",
       "    <tr>\n",
       "      <th>3</th>\n",
       "      <td>3.8</td>\n",
       "      <td>31</td>\n",
       "      <td>Samsung</td>\n",
       "      <td>6.40</td>\n",
       "      <td>2527200</td>\n",
       "      <td>20.0</td>\n",
       "      <td>Android</td>\n",
       "      <td>64</td>\n",
       "      <td>4.0</td>\n",
       "      <td>6000</td>\n",
       "      <td>94</td>\n",
       "      <td>22499.0</td>\n",
       "    </tr>\n",
       "    <tr>\n",
       "      <th>4</th>\n",
       "      <td>3.8</td>\n",
       "      <td>31</td>\n",
       "      <td>Samsung</td>\n",
       "      <td>6.40</td>\n",
       "      <td>2592000</td>\n",
       "      <td>20.0</td>\n",
       "      <td>Android</td>\n",
       "      <td>128</td>\n",
       "      <td>6.0</td>\n",
       "      <td>5000</td>\n",
       "      <td>98</td>\n",
       "      <td>24999.0</td>\n",
       "    </tr>\n",
       "  </tbody>\n",
       "</table>\n",
       "</div>"
      ],
      "text/plain": [
       "   Rating  Likes phone_make  screen_size  back_camera  front_camera       OS  \\\n",
       "0     4.0     13     Gionee         6.00      1036800           8.0  Android   \n",
       "1     4.5      8     Gionee         6.01      2332800           8.0  Android   \n",
       "2     4.3     30    Samsung         6.40      2527200          20.0  Android   \n",
       "3     3.8     31    Samsung         6.40      2527200          20.0  Android   \n",
       "4     3.8     31    Samsung         6.40      2592000          20.0  Android   \n",
       "\n",
       "   ROM  RAM  Battery  specs_score    price  \n",
       "0   64  4.0     4000           56  11800.0  \n",
       "1   64  6.0     4000           69   7999.0  \n",
       "2  128  6.0     6000          100  22590.0  \n",
       "3   64  4.0     6000           94  22499.0  \n",
       "4  128  6.0     5000           98  24999.0  "
      ]
     },
     "execution_count": 54,
     "metadata": {},
     "output_type": "execute_result"
    }
   ],
   "source": [
    "df1.head()"
   ]
  },
  {
   "cell_type": "code",
   "execution_count": 55,
   "id": "e5f38782",
   "metadata": {
    "scrolled": true
   },
   "outputs": [
    {
     "data": {
      "text/plain": [
       "Index(['Rating', 'Likes', 'phone_make', 'screen_size', 'back_camera',\n",
       "       'front_camera', 'OS', 'ROM', 'RAM', 'Battery', 'specs_score', 'price'],\n",
       "      dtype='object')"
      ]
     },
     "execution_count": 55,
     "metadata": {},
     "output_type": "execute_result"
    }
   ],
   "source": [
    "df1.columns"
   ]
  },
  {
   "cell_type": "code",
   "execution_count": 56,
   "id": "c091c546",
   "metadata": {},
   "outputs": [],
   "source": [
    "df1 = df1[['phone_make', 'OS', 'ROM', 'RAM', 'screen_size', 'back_camera', 'front_camera', 'Battery', 'Rating', 'Likes', \n",
    "        'specs_score', 'price']]"
   ]
  },
  {
   "cell_type": "code",
   "execution_count": 57,
   "id": "7755fd35",
   "metadata": {
    "scrolled": true
   },
   "outputs": [
    {
     "data": {
      "text/html": [
       "<div>\n",
       "<style scoped>\n",
       "    .dataframe tbody tr th:only-of-type {\n",
       "        vertical-align: middle;\n",
       "    }\n",
       "\n",
       "    .dataframe tbody tr th {\n",
       "        vertical-align: top;\n",
       "    }\n",
       "\n",
       "    .dataframe thead th {\n",
       "        text-align: right;\n",
       "    }\n",
       "</style>\n",
       "<table border=\"1\" class=\"dataframe\">\n",
       "  <thead>\n",
       "    <tr style=\"text-align: right;\">\n",
       "      <th></th>\n",
       "      <th>phone_make</th>\n",
       "      <th>OS</th>\n",
       "      <th>ROM</th>\n",
       "      <th>RAM</th>\n",
       "      <th>screen_size</th>\n",
       "      <th>back_camera</th>\n",
       "      <th>front_camera</th>\n",
       "      <th>Battery</th>\n",
       "      <th>Rating</th>\n",
       "      <th>Likes</th>\n",
       "      <th>specs_score</th>\n",
       "      <th>price</th>\n",
       "    </tr>\n",
       "  </thead>\n",
       "  <tbody>\n",
       "    <tr>\n",
       "      <th>1130</th>\n",
       "      <td>Nokia</td>\n",
       "      <td>Android</td>\n",
       "      <td>16</td>\n",
       "      <td>1.0</td>\n",
       "      <td>5.70</td>\n",
       "      <td>1036800</td>\n",
       "      <td>5.0</td>\n",
       "      <td>2800</td>\n",
       "      <td>3.0</td>\n",
       "      <td>8</td>\n",
       "      <td>33</td>\n",
       "      <td>8500.0</td>\n",
       "    </tr>\n",
       "    <tr>\n",
       "      <th>583</th>\n",
       "      <td>Samsung</td>\n",
       "      <td>Android</td>\n",
       "      <td>16</td>\n",
       "      <td>2.0</td>\n",
       "      <td>5.00</td>\n",
       "      <td>921600</td>\n",
       "      <td>5.0</td>\n",
       "      <td>2600</td>\n",
       "      <td>3.0</td>\n",
       "      <td>10</td>\n",
       "      <td>37</td>\n",
       "      <td>1150.0</td>\n",
       "    </tr>\n",
       "    <tr>\n",
       "      <th>392</th>\n",
       "      <td>Huawei</td>\n",
       "      <td>Android</td>\n",
       "      <td>32</td>\n",
       "      <td>4.0</td>\n",
       "      <td>5.20</td>\n",
       "      <td>2073600</td>\n",
       "      <td>8.0</td>\n",
       "      <td>3000</td>\n",
       "      <td>4.2</td>\n",
       "      <td>11</td>\n",
       "      <td>58</td>\n",
       "      <td>1510.0</td>\n",
       "    </tr>\n",
       "    <tr>\n",
       "      <th>238</th>\n",
       "      <td>Xiaomi</td>\n",
       "      <td>Android</td>\n",
       "      <td>128</td>\n",
       "      <td>6.0</td>\n",
       "      <td>6.26</td>\n",
       "      <td>2462400</td>\n",
       "      <td>24.0</td>\n",
       "      <td>3350</td>\n",
       "      <td>5.0</td>\n",
       "      <td>13</td>\n",
       "      <td>67</td>\n",
       "      <td>26499.0</td>\n",
       "    </tr>\n",
       "    <tr>\n",
       "      <th>125</th>\n",
       "      <td>Oppo</td>\n",
       "      <td>Android</td>\n",
       "      <td>64</td>\n",
       "      <td>4.0</td>\n",
       "      <td>6.50</td>\n",
       "      <td>1152000</td>\n",
       "      <td>8.0</td>\n",
       "      <td>4230</td>\n",
       "      <td>3.3</td>\n",
       "      <td>32</td>\n",
       "      <td>61</td>\n",
       "      <td>17999.0</td>\n",
       "    </tr>\n",
       "  </tbody>\n",
       "</table>\n",
       "</div>"
      ],
      "text/plain": [
       "     phone_make       OS  ROM  RAM  screen_size  back_camera  front_camera  \\\n",
       "1130      Nokia  Android   16  1.0         5.70      1036800           5.0   \n",
       "583     Samsung  Android   16  2.0         5.00       921600           5.0   \n",
       "392      Huawei  Android   32  4.0         5.20      2073600           8.0   \n",
       "238      Xiaomi  Android  128  6.0         6.26      2462400          24.0   \n",
       "125        Oppo  Android   64  4.0         6.50      1152000           8.0   \n",
       "\n",
       "      Battery  Rating  Likes  specs_score    price  \n",
       "1130     2800     3.0      8           33   8500.0  \n",
       "583      2600     3.0     10           37   1150.0  \n",
       "392      3000     4.2     11           58   1510.0  \n",
       "238      3350     5.0     13           67  26499.0  \n",
       "125      4230     3.3     32           61  17999.0  "
      ]
     },
     "execution_count": 57,
     "metadata": {},
     "output_type": "execute_result"
    }
   ],
   "source": [
    "df1.sample(5)"
   ]
  },
  {
   "cell_type": "code",
   "execution_count": 58,
   "id": "88553be3",
   "metadata": {
    "scrolled": true
   },
   "outputs": [
    {
     "data": {
      "text/html": [
       "<div>\n",
       "<style scoped>\n",
       "    .dataframe tbody tr th:only-of-type {\n",
       "        vertical-align: middle;\n",
       "    }\n",
       "\n",
       "    .dataframe tbody tr th {\n",
       "        vertical-align: top;\n",
       "    }\n",
       "\n",
       "    .dataframe thead th {\n",
       "        text-align: right;\n",
       "    }\n",
       "</style>\n",
       "<table border=\"1\" class=\"dataframe\">\n",
       "  <thead>\n",
       "    <tr style=\"text-align: right;\">\n",
       "      <th></th>\n",
       "      <th>ROM</th>\n",
       "      <th>RAM</th>\n",
       "      <th>screen_size</th>\n",
       "      <th>back_camera</th>\n",
       "      <th>front_camera</th>\n",
       "      <th>Battery</th>\n",
       "      <th>Rating</th>\n",
       "      <th>Likes</th>\n",
       "      <th>specs_score</th>\n",
       "      <th>price</th>\n",
       "    </tr>\n",
       "  </thead>\n",
       "  <tbody>\n",
       "    <tr>\n",
       "      <th>count</th>\n",
       "      <td>1036.000000</td>\n",
       "      <td>1036.000000</td>\n",
       "      <td>1036.000000</td>\n",
       "      <td>1.036000e+03</td>\n",
       "      <td>1036.000000</td>\n",
       "      <td>1036.000000</td>\n",
       "      <td>1036.000000</td>\n",
       "      <td>1036.000000</td>\n",
       "      <td>1036.000000</td>\n",
       "      <td>1036.000000</td>\n",
       "    </tr>\n",
       "    <tr>\n",
       "      <th>mean</th>\n",
       "      <td>85.459459</td>\n",
       "      <td>4.480695</td>\n",
       "      <td>6.003272</td>\n",
       "      <td>2.090206e+06</td>\n",
       "      <td>13.494788</td>\n",
       "      <td>3754.186293</td>\n",
       "      <td>3.919595</td>\n",
       "      <td>25.926641</td>\n",
       "      <td>67.870656</td>\n",
       "      <td>19860.905405</td>\n",
       "    </tr>\n",
       "    <tr>\n",
       "      <th>std</th>\n",
       "      <td>81.117802</td>\n",
       "      <td>2.446651</td>\n",
       "      <td>0.599467</td>\n",
       "      <td>1.020411e+06</td>\n",
       "      <td>8.833887</td>\n",
       "      <td>837.656194</td>\n",
       "      <td>0.746452</td>\n",
       "      <td>32.957833</td>\n",
       "      <td>21.228699</td>\n",
       "      <td>26932.338237</td>\n",
       "    </tr>\n",
       "    <tr>\n",
       "      <th>min</th>\n",
       "      <td>8.000000</td>\n",
       "      <td>0.500000</td>\n",
       "      <td>4.000000</td>\n",
       "      <td>3.840000e+05</td>\n",
       "      <td>1.200000</td>\n",
       "      <td>1560.000000</td>\n",
       "      <td>1.300000</td>\n",
       "      <td>1.000000</td>\n",
       "      <td>26.000000</td>\n",
       "      <td>84.000000</td>\n",
       "    </tr>\n",
       "    <tr>\n",
       "      <th>25%</th>\n",
       "      <td>32.000000</td>\n",
       "      <td>3.000000</td>\n",
       "      <td>5.500000</td>\n",
       "      <td>1.123200e+06</td>\n",
       "      <td>8.000000</td>\n",
       "      <td>3020.000000</td>\n",
       "      <td>3.400000</td>\n",
       "      <td>7.750000</td>\n",
       "      <td>52.000000</td>\n",
       "      <td>1270.000000</td>\n",
       "    </tr>\n",
       "    <tr>\n",
       "      <th>50%</th>\n",
       "      <td>64.000000</td>\n",
       "      <td>4.000000</td>\n",
       "      <td>6.200000</td>\n",
       "      <td>2.073600e+06</td>\n",
       "      <td>10.000000</td>\n",
       "      <td>4000.000000</td>\n",
       "      <td>4.000000</td>\n",
       "      <td>15.000000</td>\n",
       "      <td>62.000000</td>\n",
       "      <td>12299.000000</td>\n",
       "    </tr>\n",
       "    <tr>\n",
       "      <th>75%</th>\n",
       "      <td>128.000000</td>\n",
       "      <td>6.000000</td>\n",
       "      <td>6.500000</td>\n",
       "      <td>2.592000e+06</td>\n",
       "      <td>16.000000</td>\n",
       "      <td>4200.000000</td>\n",
       "      <td>4.500000</td>\n",
       "      <td>30.000000</td>\n",
       "      <td>91.000000</td>\n",
       "      <td>24999.000000</td>\n",
       "    </tr>\n",
       "    <tr>\n",
       "      <th>max</th>\n",
       "      <td>512.000000</td>\n",
       "      <td>12.000000</td>\n",
       "      <td>8.100000</td>\n",
       "      <td>8.294400e+06</td>\n",
       "      <td>48.000000</td>\n",
       "      <td>7000.000000</td>\n",
       "      <td>5.000000</td>\n",
       "      <td>296.000000</td>\n",
       "      <td>100.000000</td>\n",
       "      <td>170000.000000</td>\n",
       "    </tr>\n",
       "  </tbody>\n",
       "</table>\n",
       "</div>"
      ],
      "text/plain": [
       "               ROM          RAM  screen_size   back_camera  front_camera  \\\n",
       "count  1036.000000  1036.000000  1036.000000  1.036000e+03   1036.000000   \n",
       "mean     85.459459     4.480695     6.003272  2.090206e+06     13.494788   \n",
       "std      81.117802     2.446651     0.599467  1.020411e+06      8.833887   \n",
       "min       8.000000     0.500000     4.000000  3.840000e+05      1.200000   \n",
       "25%      32.000000     3.000000     5.500000  1.123200e+06      8.000000   \n",
       "50%      64.000000     4.000000     6.200000  2.073600e+06     10.000000   \n",
       "75%     128.000000     6.000000     6.500000  2.592000e+06     16.000000   \n",
       "max     512.000000    12.000000     8.100000  8.294400e+06     48.000000   \n",
       "\n",
       "           Battery       Rating        Likes  specs_score          price  \n",
       "count  1036.000000  1036.000000  1036.000000  1036.000000    1036.000000  \n",
       "mean   3754.186293     3.919595    25.926641    67.870656   19860.905405  \n",
       "std     837.656194     0.746452    32.957833    21.228699   26932.338237  \n",
       "min    1560.000000     1.300000     1.000000    26.000000      84.000000  \n",
       "25%    3020.000000     3.400000     7.750000    52.000000    1270.000000  \n",
       "50%    4000.000000     4.000000    15.000000    62.000000   12299.000000  \n",
       "75%    4200.000000     4.500000    30.000000    91.000000   24999.000000  \n",
       "max    7000.000000     5.000000   296.000000   100.000000  170000.000000  "
      ]
     },
     "execution_count": 58,
     "metadata": {},
     "output_type": "execute_result"
    }
   ],
   "source": [
    "df1.describe()"
   ]
  },
  {
   "cell_type": "code",
   "execution_count": 59,
   "id": "a93280b6",
   "metadata": {
    "scrolled": true
   },
   "outputs": [],
   "source": [
    "#df2 = df1.copy()\n",
    "#df2 = df2[(df2['price']>2000) & (df2['ROM']>32)]\n",
    "\n"
   ]
  },
  {
   "cell_type": "code",
   "execution_count": 60,
   "id": "c2f24b30",
   "metadata": {},
   "outputs": [],
   "source": [
    "#df3 = df1.copy()\n",
    "#df3 = df3[(df3['price']>=1500)]"
   ]
  },
  {
   "cell_type": "code",
   "execution_count": 61,
   "id": "fed00285",
   "metadata": {},
   "outputs": [],
   "source": [
    "#df3.shape"
   ]
  },
  {
   "cell_type": "code",
   "execution_count": 62,
   "id": "9a984a71",
   "metadata": {},
   "outputs": [],
   "source": [
    "#df3.sample(20)"
   ]
  },
  {
   "cell_type": "code",
   "execution_count": 63,
   "id": "db1d0f4f",
   "metadata": {
    "scrolled": true
   },
   "outputs": [
    {
     "data": {
      "text/plain": [
       "(1036, 12)"
      ]
     },
     "execution_count": 63,
     "metadata": {},
     "output_type": "execute_result"
    }
   ],
   "source": [
    "df1.shape"
   ]
  },
  {
   "cell_type": "code",
   "execution_count": 64,
   "id": "9b65cdc2",
   "metadata": {
    "scrolled": true
   },
   "outputs": [
    {
     "data": {
      "text/plain": [
       "Android    1008\n",
       "iOS          28\n",
       "Name: OS, dtype: int64"
      ]
     },
     "execution_count": 64,
     "metadata": {},
     "output_type": "execute_result"
    }
   ],
   "source": [
    "df.OS.value_counts()"
   ]
  },
  {
   "cell_type": "code",
   "execution_count": 65,
   "id": "32cf5b7c",
   "metadata": {},
   "outputs": [
    {
     "data": {
      "text/plain": [
       "(1036, 12)"
      ]
     },
     "execution_count": 65,
     "metadata": {},
     "output_type": "execute_result"
    }
   ],
   "source": [
    "df1.shape"
   ]
  },
  {
   "cell_type": "code",
   "execution_count": 66,
   "id": "957cd9f2",
   "metadata": {},
   "outputs": [
    {
     "data": {
      "text/plain": [
       "\"'\\ndef remove_price_outliers(df1):\\n    df_out = pd.DataFrame()\\n    for key, subdf in df1.groupby('phone_make'):\\n        m=np.mean(subdf.price)\\n        sd=np.std(subdf.price)\\n        reduced_df = subdf[(subdf.price>(m-sd)) & (subdf.price<=(m+sd))]\\n        df_out = pd.concat([df_out,reduced_df], ignore_index=True)\\n    return df_out\\n\\ndf2 = remove_price_outliers(df1)\\ndf2.shape\""
      ]
     },
     "execution_count": 66,
     "metadata": {},
     "output_type": "execute_result"
    }
   ],
   "source": [
    "''''\n",
    "def remove_price_outliers(df1):\n",
    "    df_out = pd.DataFrame()\n",
    "    for key, subdf in df1.groupby('phone_make'):\n",
    "        m=np.mean(subdf.price)\n",
    "        sd=np.std(subdf.price)\n",
    "        reduced_df = subdf[(subdf.price>(m-sd)) & (subdf.price<=(m+sd))]\n",
    "        df_out = pd.concat([df_out,reduced_df], ignore_index=True)\n",
    "    return df_out\n",
    "\n",
    "df2 = remove_price_outliers(df1)\n",
    "df2.shape'''"
   ]
  },
  {
   "cell_type": "code",
   "execution_count": 67,
   "id": "2e176105",
   "metadata": {
    "scrolled": true
   },
   "outputs": [
    {
     "data": {
      "text/plain": [
       "count      1036.000000\n",
       "mean      19860.905405\n",
       "std       26932.338237\n",
       "min          84.000000\n",
       "25%        1270.000000\n",
       "50%       12299.000000\n",
       "75%       24999.000000\n",
       "max      170000.000000\n",
       "Name: price, dtype: float64"
      ]
     },
     "execution_count": 67,
     "metadata": {},
     "output_type": "execute_result"
    }
   ],
   "source": [
    "df1.price.describe()"
   ]
  },
  {
   "cell_type": "code",
   "execution_count": 68,
   "id": "4f6208a7",
   "metadata": {
    "scrolled": true
   },
   "outputs": [
    {
     "data": {
      "text/plain": [
       "46"
      ]
     },
     "execution_count": 68,
     "metadata": {},
     "output_type": "execute_result"
    }
   ],
   "source": [
    "len(df1[(df1['price']<500)])"
   ]
  },
  {
   "cell_type": "code",
   "execution_count": 69,
   "id": "93eca9a7",
   "metadata": {
    "scrolled": true
   },
   "outputs": [
    {
     "data": {
      "text/plain": [
       "181"
      ]
     },
     "execution_count": 69,
     "metadata": {},
     "output_type": "execute_result"
    }
   ],
   "source": [
    "len(df1[(df1['price']<1000)])"
   ]
  },
  {
   "cell_type": "code",
   "execution_count": 70,
   "id": "ee6f6e6d",
   "metadata": {
    "scrolled": true
   },
   "outputs": [
    {
     "data": {
      "text/plain": [
       "(1036, 12)"
      ]
     },
     "execution_count": 70,
     "metadata": {},
     "output_type": "execute_result"
    }
   ],
   "source": [
    "df1.shape"
   ]
  },
  {
   "cell_type": "code",
   "execution_count": 71,
   "id": "91324953",
   "metadata": {},
   "outputs": [
    {
     "data": {
      "text/plain": [
       "855"
      ]
     },
     "execution_count": 71,
     "metadata": {},
     "output_type": "execute_result"
    }
   ],
   "source": [
    "1036-181"
   ]
  },
  {
   "cell_type": "code",
   "execution_count": 72,
   "id": "787b58ec",
   "metadata": {},
   "outputs": [],
   "source": [
    "df2 = df1[~(df1['price']<1000)]"
   ]
  },
  {
   "cell_type": "code",
   "execution_count": 73,
   "id": "c5f94379",
   "metadata": {},
   "outputs": [
    {
     "data": {
      "text/html": [
       "<div>\n",
       "<style scoped>\n",
       "    .dataframe tbody tr th:only-of-type {\n",
       "        vertical-align: middle;\n",
       "    }\n",
       "\n",
       "    .dataframe tbody tr th {\n",
       "        vertical-align: top;\n",
       "    }\n",
       "\n",
       "    .dataframe thead th {\n",
       "        text-align: right;\n",
       "    }\n",
       "</style>\n",
       "<table border=\"1\" class=\"dataframe\">\n",
       "  <thead>\n",
       "    <tr style=\"text-align: right;\">\n",
       "      <th></th>\n",
       "      <th>phone_make</th>\n",
       "      <th>OS</th>\n",
       "      <th>ROM</th>\n",
       "      <th>RAM</th>\n",
       "      <th>screen_size</th>\n",
       "      <th>back_camera</th>\n",
       "      <th>front_camera</th>\n",
       "      <th>Battery</th>\n",
       "      <th>Rating</th>\n",
       "      <th>Likes</th>\n",
       "      <th>specs_score</th>\n",
       "      <th>price</th>\n",
       "    </tr>\n",
       "  </thead>\n",
       "  <tbody>\n",
       "    <tr>\n",
       "      <th>853</th>\n",
       "      <td>Xiaomi</td>\n",
       "      <td>Android</td>\n",
       "      <td>128</td>\n",
       "      <td>6.0</td>\n",
       "      <td>6.67</td>\n",
       "      <td>2592000</td>\n",
       "      <td>16.0</td>\n",
       "      <td>5020</td>\n",
       "      <td>4.3</td>\n",
       "      <td>24</td>\n",
       "      <td>98</td>\n",
       "      <td>24500.0</td>\n",
       "    </tr>\n",
       "    <tr>\n",
       "      <th>193</th>\n",
       "      <td>Nokia</td>\n",
       "      <td>Android</td>\n",
       "      <td>32</td>\n",
       "      <td>3.0</td>\n",
       "      <td>5.86</td>\n",
       "      <td>1094400</td>\n",
       "      <td>8.0</td>\n",
       "      <td>3060</td>\n",
       "      <td>3.8</td>\n",
       "      <td>61</td>\n",
       "      <td>53</td>\n",
       "      <td>14500.0</td>\n",
       "    </tr>\n",
       "    <tr>\n",
       "      <th>199</th>\n",
       "      <td>Nokia</td>\n",
       "      <td>Android</td>\n",
       "      <td>8</td>\n",
       "      <td>1.0</td>\n",
       "      <td>4.50</td>\n",
       "      <td>409920</td>\n",
       "      <td>2.0</td>\n",
       "      <td>1800</td>\n",
       "      <td>3.6</td>\n",
       "      <td>17</td>\n",
       "      <td>26</td>\n",
       "      <td>4599.0</td>\n",
       "    </tr>\n",
       "    <tr>\n",
       "      <th>323</th>\n",
       "      <td>Realme</td>\n",
       "      <td>Android</td>\n",
       "      <td>128</td>\n",
       "      <td>8.0</td>\n",
       "      <td>6.44</td>\n",
       "      <td>2592000</td>\n",
       "      <td>16.0</td>\n",
       "      <td>4200</td>\n",
       "      <td>5.0</td>\n",
       "      <td>4</td>\n",
       "      <td>100</td>\n",
       "      <td>13799.0</td>\n",
       "    </tr>\n",
       "    <tr>\n",
       "      <th>629</th>\n",
       "      <td>Samsung</td>\n",
       "      <td>Android</td>\n",
       "      <td>8</td>\n",
       "      <td>1.0</td>\n",
       "      <td>5.00</td>\n",
       "      <td>518400</td>\n",
       "      <td>5.0</td>\n",
       "      <td>2600</td>\n",
       "      <td>4.7</td>\n",
       "      <td>15</td>\n",
       "      <td>33</td>\n",
       "      <td>1539.0</td>\n",
       "    </tr>\n",
       "    <tr>\n",
       "      <th>483</th>\n",
       "      <td>Xiaomi</td>\n",
       "      <td>Android</td>\n",
       "      <td>64</td>\n",
       "      <td>4.0</td>\n",
       "      <td>6.30</td>\n",
       "      <td>2527200</td>\n",
       "      <td>13.0</td>\n",
       "      <td>4000</td>\n",
       "      <td>5.0</td>\n",
       "      <td>17</td>\n",
       "      <td>86</td>\n",
       "      <td>19500.0</td>\n",
       "    </tr>\n",
       "    <tr>\n",
       "      <th>105</th>\n",
       "      <td>Tecno</td>\n",
       "      <td>Android</td>\n",
       "      <td>8</td>\n",
       "      <td>1.0</td>\n",
       "      <td>5.00</td>\n",
       "      <td>409920</td>\n",
       "      <td>2.0</td>\n",
       "      <td>2000</td>\n",
       "      <td>3.4</td>\n",
       "      <td>38</td>\n",
       "      <td>28</td>\n",
       "      <td>11999.0</td>\n",
       "    </tr>\n",
       "    <tr>\n",
       "      <th>505</th>\n",
       "      <td>Xiaomi</td>\n",
       "      <td>Android</td>\n",
       "      <td>64</td>\n",
       "      <td>4.0</td>\n",
       "      <td>6.53</td>\n",
       "      <td>2527200</td>\n",
       "      <td>20.0</td>\n",
       "      <td>4500</td>\n",
       "      <td>3.7</td>\n",
       "      <td>18</td>\n",
       "      <td>99</td>\n",
       "      <td>22000.0</td>\n",
       "    </tr>\n",
       "    <tr>\n",
       "      <th>983</th>\n",
       "      <td>Tecno</td>\n",
       "      <td>Android</td>\n",
       "      <td>32</td>\n",
       "      <td>2.0</td>\n",
       "      <td>6.20</td>\n",
       "      <td>1080000</td>\n",
       "      <td>8.0</td>\n",
       "      <td>3500</td>\n",
       "      <td>3.3</td>\n",
       "      <td>175</td>\n",
       "      <td>47</td>\n",
       "      <td>12500.0</td>\n",
       "    </tr>\n",
       "    <tr>\n",
       "      <th>1073</th>\n",
       "      <td>Apple</td>\n",
       "      <td>iOS</td>\n",
       "      <td>32</td>\n",
       "      <td>3.0</td>\n",
       "      <td>5.50</td>\n",
       "      <td>2073600</td>\n",
       "      <td>7.0</td>\n",
       "      <td>2900</td>\n",
       "      <td>3.5</td>\n",
       "      <td>30</td>\n",
       "      <td>50</td>\n",
       "      <td>38000.0</td>\n",
       "    </tr>\n",
       "  </tbody>\n",
       "</table>\n",
       "</div>"
      ],
      "text/plain": [
       "     phone_make       OS  ROM  RAM  screen_size  back_camera  front_camera  \\\n",
       "853      Xiaomi  Android  128  6.0         6.67      2592000          16.0   \n",
       "193       Nokia  Android   32  3.0         5.86      1094400           8.0   \n",
       "199       Nokia  Android    8  1.0         4.50       409920           2.0   \n",
       "323      Realme  Android  128  8.0         6.44      2592000          16.0   \n",
       "629     Samsung  Android    8  1.0         5.00       518400           5.0   \n",
       "483      Xiaomi  Android   64  4.0         6.30      2527200          13.0   \n",
       "105       Tecno  Android    8  1.0         5.00       409920           2.0   \n",
       "505      Xiaomi  Android   64  4.0         6.53      2527200          20.0   \n",
       "983       Tecno  Android   32  2.0         6.20      1080000           8.0   \n",
       "1073      Apple      iOS   32  3.0         5.50      2073600           7.0   \n",
       "\n",
       "      Battery  Rating  Likes  specs_score    price  \n",
       "853      5020     4.3     24           98  24500.0  \n",
       "193      3060     3.8     61           53  14500.0  \n",
       "199      1800     3.6     17           26   4599.0  \n",
       "323      4200     5.0      4          100  13799.0  \n",
       "629      2600     4.7     15           33   1539.0  \n",
       "483      4000     5.0     17           86  19500.0  \n",
       "105      2000     3.4     38           28  11999.0  \n",
       "505      4500     3.7     18           99  22000.0  \n",
       "983      3500     3.3    175           47  12500.0  \n",
       "1073     2900     3.5     30           50  38000.0  "
      ]
     },
     "execution_count": 73,
     "metadata": {},
     "output_type": "execute_result"
    }
   ],
   "source": [
    "df2.sample(10)"
   ]
  },
  {
   "cell_type": "markdown",
   "id": "ba02dcc5",
   "metadata": {},
   "source": [
    "It is always better to check the correlation between the features so that we can analyze that which feature is negatively correlated and which is positively correlated so, Let’s check the correlation between various features."
   ]
  },
  {
   "cell_type": "code",
   "execution_count": 74,
   "id": "5e865897",
   "metadata": {
    "scrolled": false
   },
   "outputs": [
    {
     "data": {
      "image/png": "[encoded data removed]",
      "text/plain": [
       "<Figure size 1440x864 with 2 Axes>"
      ]
     },
     "metadata": {
      "needs_background": "light"
     },
     "output_type": "display_data"
    }
   ],
   "source": [
    "plt.figure(figsize=(20,12))\n",
    "sns.set_context('notebook',font_scale = 1.3)\n",
    "sns.heatmap(df2.corr(),annot=True,linewidth =2)\n",
    "plt.tight_layout()"
   ]
  },
  {
   "cell_type": "markdown",
   "id": "a3f3e16e",
   "metadata": {},
   "source": [
    "By far we have checked the correlation between the features but it is also a good practice to check the correlation of the target variable."
   ]
  },
  {
   "cell_type": "code",
   "execution_count": 75,
   "id": "fc4fa85f",
   "metadata": {
    "scrolled": true
   },
   "outputs": [
    {
     "data": {
      "image/png": "[encoded data removed]",
      "text/plain": [
       "<Figure size 1440x720 with 1 Axes>"
      ]
     },
     "metadata": {
      "needs_background": "light"
     },
     "output_type": "display_data"
    }
   ],
   "source": [
    "sns.set_context('notebook',font_scale = 2.3)\n",
    "df2.drop('price', axis=1).corrwith(df2.price).plot(kind='bar', grid=True, figsize=(20, 10), \n",
    "                                                        title=\"Correlation with the target feature\")\n",
    "plt.tight_layout()"
   ]
  },
  {
   "cell_type": "markdown",
   "id": "7ef1ae43",
   "metadata": {},
   "source": [
    "Inference: Insights from the above graph are:\n",
    "\n",
    "1. all features except likes are positively correlated with the target feature.\n",
    "2. The like feature is negatively correlated with the target feature.\n",
    "\n",
    "So, we have done enough collective analysis now let’s go for the analysis of the individual features which comprises both univariate and bivariate analysis."
   ]
  },
  {
   "cell_type": "code",
   "execution_count": 76,
   "id": "58741a40",
   "metadata": {
    "scrolled": true
   },
   "outputs": [
    {
     "data": {
      "image/png": "[encoded data removed]",
      "text/plain": [
       "<Figure size 1800x864 with 1 Axes>"
      ]
     },
     "metadata": {
      "needs_background": "light"
     },
     "output_type": "display_data"
    }
   ],
   "source": [
    "plt.figure(figsize=(25,12))\n",
    "sns.set_context('notebook',font_scale = 1.5)\n",
    "sns.barplot(x=df2.phone_make.value_counts()[:10].index,y=df2.phone_make.value_counts()[:10].values)\n",
    "plt.tight_layout()"
   ]
  },
  {
   "cell_type": "markdown",
   "id": "54e6ca46",
   "metadata": {},
   "source": [
    "Inference: Here we can see that the samsung phone make  has the highest frequency.\n",
    "\n",
    "Let’s check the specs_score range  in the dataset."
   ]
  },
  {
   "cell_type": "code",
   "execution_count": 77,
   "id": "23e92ee3",
   "metadata": {},
   "outputs": [
    {
     "name": "stdout",
     "output_type": "stream",
     "text": [
      "Min Feature Score : 26\n",
      "Max Feature Score : 100\n",
      "Mean Feature Score : 67.74385964912281\n"
     ]
    }
   ],
   "source": [
    "minscore=min(df2.specs_score)\n",
    "maxscore=max(df2.specs_score)\n",
    "meanscore=df2.specs_score.mean()\n",
    "print('Min Feature Score :',minscore)\n",
    "print('Max Feature Score :',maxscore)\n",
    "print('Mean Feature Score :',meanscore)"
   ]
  },
  {
   "cell_type": "markdown",
   "id": "8010c0b4",
   "metadata": {},
   "source": [
    "We should divide the specs_score feature into three parts – “Lowest”, “Middle” and “Highest”"
   ]
  },
  {
   "cell_type": "code",
   "execution_count": 78,
   "id": "aad5706b",
   "metadata": {
    "scrolled": true
   },
   "outputs": [
    {
     "data": {
      "image/png": "[encoded data removed]",
      "text/plain": [
       "<Figure size 1656x720 with 1 Axes>"
      ]
     },
     "metadata": {
      "needs_background": "light"
     },
     "output_type": "display_data"
    }
   ],
   "source": [
    "Lowest = df2[(df2.specs_score>=29)&(df2.specs_score<40)]\n",
    "Middle = df2[(df2.specs_score>=40)&(df2.specs_score<55)]\n",
    "Highest = df2[(df2.specs_score>55)]\n",
    "\n",
    "plt.figure(figsize=(23,10))\n",
    "sns.set_context('notebook',font_scale = 1.5)\n",
    "sns.barplot(x=['lowest scores','middle score','highest scores'],y=[len(Lowest),len(Middle),len(Highest)])\n",
    "plt.tight_layout()"
   ]
  },
  {
   "cell_type": "markdown",
   "id": "2530212f",
   "metadata": {},
   "source": [
    "Inference: Here we can see that most phones are given highests specs score with few having lowest scores.\n",
    "\n",
    "To prove the above inference we will plot the pie chart."
   ]
  },
  {
   "cell_type": "code",
   "execution_count": 79,
   "id": "231000d6",
   "metadata": {
    "scrolled": true
   },
   "outputs": [
    {
     "data": {
      "image/png": "[encoded data removed]",
      "text/plain": [
       "<Figure size 720x720 with 1 Axes>"
      ]
     },
     "metadata": {},
     "output_type": "display_data"
    }
   ],
   "source": [
    "colors = ['blue','green','yellow']\n",
    "explode = [0,0,0.1]\n",
    "plt.figure(figsize=(10,10))\n",
    "sns.set_context('notebook',font_scale = 1.2)\n",
    "plt.pie([len(Lowest),len(Middle),len(Highest)],labels=['lowest scores','middle score','highest scores'],explode=explode,colors=colors, autopct='%1.1f%%')\n",
    "plt.tight_layout()"
   ]
  },
  {
   "cell_type": "markdown",
   "id": "1c287228",
   "metadata": {},
   "source": [
    "Now let’s plot the relation between phone_make and likes."
   ]
  },
  {
   "cell_type": "code",
   "execution_count": 80,
   "id": "759e83a8",
   "metadata": {
    "scrolled": false
   },
   "outputs": [
    {
     "data": {
      "text/plain": [
       "count    855.000000\n",
       "mean      27.400000\n",
       "std       34.123402\n",
       "min        1.000000\n",
       "25%        8.000000\n",
       "50%       16.000000\n",
       "75%       32.000000\n",
       "max      296.000000\n",
       "Name: Likes, dtype: float64"
      ]
     },
     "execution_count": 80,
     "metadata": {},
     "output_type": "execute_result"
    }
   ],
   "source": [
    "df2.Likes.describe()"
   ]
  },
  {
   "cell_type": "code",
   "execution_count": 81,
   "id": "f4bd61b1",
   "metadata": {
    "scrolled": true
   },
   "outputs": [
    {
     "data": {
      "text/plain": [
       "Samsung       154\n",
       "Xiaomi        122\n",
       "Huawei        105\n",
       "Infinix        63\n",
       "Tecno          60\n",
       "Oppo           60\n",
       "Realme         38\n",
       "Nokia          35\n",
       "HTC            32\n",
       "Apple          28\n",
       "Sony           27\n",
       "OnePlus        25\n",
       "LG             21\n",
       "Lenovo         21\n",
       "Google         15\n",
       "BlackBerry     11\n",
       "Motorola        9\n",
       "Honor           7\n",
       "Vivo            6\n",
       "Cubot           6\n",
       "Hotwav          3\n",
       "Lava            3\n",
       "Microsoft       2\n",
       "Gionee          2\n",
       "Name: phone_make, dtype: int64"
      ]
     },
     "execution_count": 81,
     "metadata": {},
     "output_type": "execute_result"
    }
   ],
   "source": [
    "df2.phone_make.value_counts()"
   ]
  },
  {
   "cell_type": "markdown",
   "id": "7f957f6a",
   "metadata": {},
   "source": [
    "We can now plot histogram to check price feature is distributed"
   ]
  },
  {
   "cell_type": "code",
   "execution_count": 82,
   "id": "82c8c474",
   "metadata": {
    "scrolled": false
   },
   "outputs": [
    {
     "data": {
      "text/plain": [
       "Text(0, 0.5, 'Count')"
      ]
     },
     "execution_count": 82,
     "metadata": {},
     "output_type": "execute_result"
    },
    {
     "data": {
      "image/png": "[encoded data removed]",
      "text/plain": [
       "<Figure size 1440x720 with 1 Axes>"
      ]
     },
     "metadata": {
      "needs_background": "light"
     },
     "output_type": "display_data"
    }
   ],
   "source": [
    "matplotlib.rcParams['figure.figsize']=(20,10)\n",
    "plt.hist(df2.price,rwidth=0.8)\n",
    "plt.xlabel('Price of phone')\n",
    "plt.ylabel('Count')\n",
    "#shows that the data is normally distributed"
   ]
  },
  {
   "cell_type": "code",
   "execution_count": 83,
   "id": "9112b279",
   "metadata": {
    "scrolled": false
   },
   "outputs": [
    {
     "data": {
      "image/png": "[encoded data removed]",
      "text/plain": [
       "<Figure size 1080x720 with 1 Axes>"
      ]
     },
     "metadata": {
      "needs_background": "light"
     },
     "output_type": "display_data"
    }
   ],
   "source": [
    "#next we can check instances where property prices for 2bedroom more than price for 3 bedroom\n",
    "#we can visualize the data to identify such cases\n",
    "def plot_scatter_chart(df,phone_make):\n",
    "    rom32 = df[(df.phone_make==phone_make) & (df.ROM==32)]\n",
    "    rom64 = df[(df.phone_make==phone_make) & (df.ROM==64)]\n",
    "    matplotlib.rcParams['figure.figsize']=(15,10)\n",
    "    plt.scatter(rom32.ROM,rom32.price,color='blue',label='32GB', s=50)\n",
    "    plt.scatter(rom64.ROM,rom64.price,marker='+',color='green',label='64GB', s=50)\n",
    "    plt.xlabel('Storage')\n",
    "    plt.ylabel('Price')\n",
    "    plt.title('Huawei')\n",
    "    plt.legend()\n",
    "    \n",
    "\n",
    "plot_scatter_chart(df2,'Huawei')"
   ]
  },
  {
   "cell_type": "code",
   "execution_count": 84,
   "id": "fd7be61b",
   "metadata": {
    "scrolled": false
   },
   "outputs": [
    {
     "data": {
      "text/html": [
       "<div>\n",
       "<style scoped>\n",
       "    .dataframe tbody tr th:only-of-type {\n",
       "        vertical-align: middle;\n",
       "    }\n",
       "\n",
       "    .dataframe tbody tr th {\n",
       "        vertical-align: top;\n",
       "    }\n",
       "\n",
       "    .dataframe thead th {\n",
       "        text-align: right;\n",
       "    }\n",
       "</style>\n",
       "<table border=\"1\" class=\"dataframe\">\n",
       "  <thead>\n",
       "    <tr style=\"text-align: right;\">\n",
       "      <th></th>\n",
       "      <th>phone_make</th>\n",
       "      <th>OS</th>\n",
       "      <th>ROM</th>\n",
       "      <th>RAM</th>\n",
       "      <th>screen_size</th>\n",
       "      <th>back_camera</th>\n",
       "      <th>front_camera</th>\n",
       "      <th>Battery</th>\n",
       "      <th>Rating</th>\n",
       "      <th>Likes</th>\n",
       "      <th>specs_score</th>\n",
       "      <th>price</th>\n",
       "    </tr>\n",
       "  </thead>\n",
       "  <tbody>\n",
       "    <tr>\n",
       "      <th>161</th>\n",
       "      <td>Xiaomi</td>\n",
       "      <td>Android</td>\n",
       "      <td>16</td>\n",
       "      <td>2.0</td>\n",
       "      <td>5.50</td>\n",
       "      <td>921600</td>\n",
       "      <td>16.0</td>\n",
       "      <td>3080</td>\n",
       "      <td>3.4</td>\n",
       "      <td>13</td>\n",
       "      <td>47</td>\n",
       "      <td>15500.0</td>\n",
       "    </tr>\n",
       "    <tr>\n",
       "      <th>544</th>\n",
       "      <td>Infinix</td>\n",
       "      <td>Android</td>\n",
       "      <td>16</td>\n",
       "      <td>1.0</td>\n",
       "      <td>5.50</td>\n",
       "      <td>1036800</td>\n",
       "      <td>8.0</td>\n",
       "      <td>3050</td>\n",
       "      <td>4.0</td>\n",
       "      <td>72</td>\n",
       "      <td>43</td>\n",
       "      <td>8700.0</td>\n",
       "    </tr>\n",
       "    <tr>\n",
       "      <th>949</th>\n",
       "      <td>Huawei</td>\n",
       "      <td>Android</td>\n",
       "      <td>32</td>\n",
       "      <td>3.0</td>\n",
       "      <td>6.26</td>\n",
       "      <td>1094400</td>\n",
       "      <td>16.0</td>\n",
       "      <td>4000</td>\n",
       "      <td>3.4</td>\n",
       "      <td>73</td>\n",
       "      <td>54</td>\n",
       "      <td>15700.0</td>\n",
       "    </tr>\n",
       "    <tr>\n",
       "      <th>323</th>\n",
       "      <td>Realme</td>\n",
       "      <td>Android</td>\n",
       "      <td>128</td>\n",
       "      <td>8.0</td>\n",
       "      <td>6.44</td>\n",
       "      <td>2592000</td>\n",
       "      <td>16.0</td>\n",
       "      <td>4200</td>\n",
       "      <td>5.0</td>\n",
       "      <td>4</td>\n",
       "      <td>100</td>\n",
       "      <td>13799.0</td>\n",
       "    </tr>\n",
       "    <tr>\n",
       "      <th>944</th>\n",
       "      <td>Huawei</td>\n",
       "      <td>Android</td>\n",
       "      <td>32</td>\n",
       "      <td>2.0</td>\n",
       "      <td>6.09</td>\n",
       "      <td>1123200</td>\n",
       "      <td>8.0</td>\n",
       "      <td>3020</td>\n",
       "      <td>3.7</td>\n",
       "      <td>112</td>\n",
       "      <td>45</td>\n",
       "      <td>12499.0</td>\n",
       "    </tr>\n",
       "  </tbody>\n",
       "</table>\n",
       "</div>"
      ],
      "text/plain": [
       "    phone_make       OS  ROM  RAM  screen_size  back_camera  front_camera  \\\n",
       "161     Xiaomi  Android   16  2.0         5.50       921600          16.0   \n",
       "544    Infinix  Android   16  1.0         5.50      1036800           8.0   \n",
       "949     Huawei  Android   32  3.0         6.26      1094400          16.0   \n",
       "323     Realme  Android  128  8.0         6.44      2592000          16.0   \n",
       "944     Huawei  Android   32  2.0         6.09      1123200           8.0   \n",
       "\n",
       "     Battery  Rating  Likes  specs_score    price  \n",
       "161     3080     3.4     13           47  15500.0  \n",
       "544     3050     4.0     72           43   8700.0  \n",
       "949     4000     3.4     73           54  15700.0  \n",
       "323     4200     5.0      4          100  13799.0  \n",
       "944     3020     3.7    112           45  12499.0  "
      ]
     },
     "execution_count": 84,
     "metadata": {},
     "output_type": "execute_result"
    }
   ],
   "source": [
    "df2.sample(5)"
   ]
  },
  {
   "cell_type": "code",
   "execution_count": 85,
   "id": "4102f8b5",
   "metadata": {
    "scrolled": true
   },
   "outputs": [
    {
     "data": {
      "text/plain": [
       "phone_make\n",
       "Samsung       154\n",
       "Xiaomi        122\n",
       "Huawei        105\n",
       "Infinix        63\n",
       "Tecno          60\n",
       "Oppo           60\n",
       "Realme         38\n",
       "Nokia          35\n",
       "HTC            32\n",
       "Apple          28\n",
       "Sony           27\n",
       "OnePlus        25\n",
       "LG             21\n",
       "Lenovo         21\n",
       "Google         15\n",
       "BlackBerry     11\n",
       "Motorola        9\n",
       "Honor           7\n",
       "Cubot           6\n",
       "Vivo            6\n",
       "Lava            3\n",
       "Hotwav          3\n",
       "Microsoft       2\n",
       "Gionee          2\n",
       "Name: phone_make, dtype: int64"
      ]
     },
     "execution_count": 85,
     "metadata": {},
     "output_type": "execute_result"
    }
   ],
   "source": [
    "df2.phone_make = df2.phone_make.apply(lambda x: x.strip())#removes any spaces at begging or end of location\n",
    "\n",
    "phone_make_stats = df2.groupby('phone_make')['phone_make'].agg('count').sort_values(ascending = False)\n",
    "phone_make_stats"
   ]
  },
  {
   "cell_type": "code",
   "execution_count": 86,
   "id": "c1c138b1",
   "metadata": {},
   "outputs": [
    {
     "data": {
      "text/plain": [
       "8"
      ]
     },
     "execution_count": 86,
     "metadata": {},
     "output_type": "execute_result"
    }
   ],
   "source": [
    "len(phone_make_stats[phone_make_stats<=10])"
   ]
  },
  {
   "cell_type": "code",
   "execution_count": 87,
   "id": "77821b70",
   "metadata": {
    "scrolled": true
   },
   "outputs": [
    {
     "data": {
      "text/plain": [
       "phone_make\n",
       "Motorola     9\n",
       "Honor        7\n",
       "Cubot        6\n",
       "Vivo         6\n",
       "Lava         3\n",
       "Hotwav       3\n",
       "Microsoft    2\n",
       "Gionee       2\n",
       "Name: phone_make, dtype: int64"
      ]
     },
     "execution_count": 87,
     "metadata": {},
     "output_type": "execute_result"
    }
   ],
   "source": [
    "phone_make_stats_less_than_10 = phone_make_stats[phone_make_stats<=10]\n",
    "phone_make_stats_less_than_10"
   ]
  },
  {
   "cell_type": "code",
   "execution_count": 88,
   "id": "99f554a6",
   "metadata": {
    "scrolled": true
   },
   "outputs": [
    {
     "data": {
      "text/plain": [
       "24"
      ]
     },
     "execution_count": 88,
     "metadata": {},
     "output_type": "execute_result"
    }
   ],
   "source": [
    "len(df2.phone_make.unique())"
   ]
  },
  {
   "cell_type": "code",
   "execution_count": 89,
   "id": "7e4cd8da",
   "metadata": {},
   "outputs": [
    {
     "data": {
      "text/plain": [
       "17"
      ]
     },
     "execution_count": 89,
     "metadata": {},
     "output_type": "execute_result"
    }
   ],
   "source": [
    "#to make the other group\n",
    "df2.phone_make = df2.phone_make.apply(lambda x: 'other' if x in phone_make_stats_less_than_10 else x)\n",
    "len(df2.phone_make.unique())"
   ]
  },
  {
   "cell_type": "code",
   "execution_count": 90,
   "id": "fb56ebfa",
   "metadata": {
    "scrolled": false
   },
   "outputs": [
    {
     "data": {
      "text/html": [
       "<div>\n",
       "<style scoped>\n",
       "    .dataframe tbody tr th:only-of-type {\n",
       "        vertical-align: middle;\n",
       "    }\n",
       "\n",
       "    .dataframe tbody tr th {\n",
       "        vertical-align: top;\n",
       "    }\n",
       "\n",
       "    .dataframe thead th {\n",
       "        text-align: right;\n",
       "    }\n",
       "</style>\n",
       "<table border=\"1\" class=\"dataframe\">\n",
       "  <thead>\n",
       "    <tr style=\"text-align: right;\">\n",
       "      <th></th>\n",
       "      <th>phone_make</th>\n",
       "      <th>OS</th>\n",
       "      <th>ROM</th>\n",
       "      <th>RAM</th>\n",
       "      <th>screen_size</th>\n",
       "      <th>back_camera</th>\n",
       "      <th>front_camera</th>\n",
       "      <th>Battery</th>\n",
       "      <th>Rating</th>\n",
       "      <th>Likes</th>\n",
       "      <th>specs_score</th>\n",
       "      <th>price</th>\n",
       "    </tr>\n",
       "  </thead>\n",
       "  <tbody>\n",
       "    <tr>\n",
       "      <th>711</th>\n",
       "      <td>Realme</td>\n",
       "      <td>Android</td>\n",
       "      <td>128</td>\n",
       "      <td>6.0</td>\n",
       "      <td>6.50</td>\n",
       "      <td>1152000</td>\n",
       "      <td>8.0</td>\n",
       "      <td>5000</td>\n",
       "      <td>5.0</td>\n",
       "      <td>2</td>\n",
       "      <td>69</td>\n",
       "      <td>12999.0</td>\n",
       "    </tr>\n",
       "    <tr>\n",
       "      <th>233</th>\n",
       "      <td>Xiaomi</td>\n",
       "      <td>Android</td>\n",
       "      <td>64</td>\n",
       "      <td>6.0</td>\n",
       "      <td>6.39</td>\n",
       "      <td>2527200</td>\n",
       "      <td>20.0</td>\n",
       "      <td>4000</td>\n",
       "      <td>3.9</td>\n",
       "      <td>18</td>\n",
       "      <td>95</td>\n",
       "      <td>37500.0</td>\n",
       "    </tr>\n",
       "    <tr>\n",
       "      <th>764</th>\n",
       "      <td>Huawei</td>\n",
       "      <td>Android</td>\n",
       "      <td>128</td>\n",
       "      <td>4.0</td>\n",
       "      <td>6.53</td>\n",
       "      <td>2423520</td>\n",
       "      <td>24.0</td>\n",
       "      <td>4000</td>\n",
       "      <td>4.5</td>\n",
       "      <td>9</td>\n",
       "      <td>67</td>\n",
       "      <td>50000.0</td>\n",
       "    </tr>\n",
       "    <tr>\n",
       "      <th>341</th>\n",
       "      <td>Samsung</td>\n",
       "      <td>Android</td>\n",
       "      <td>256</td>\n",
       "      <td>12.0</td>\n",
       "      <td>6.90</td>\n",
       "      <td>4446720</td>\n",
       "      <td>10.0</td>\n",
       "      <td>4500</td>\n",
       "      <td>5.0</td>\n",
       "      <td>17</td>\n",
       "      <td>100</td>\n",
       "      <td>130999.0</td>\n",
       "    </tr>\n",
       "    <tr>\n",
       "      <th>200</th>\n",
       "      <td>Nokia</td>\n",
       "      <td>Android</td>\n",
       "      <td>64</td>\n",
       "      <td>4.0</td>\n",
       "      <td>6.00</td>\n",
       "      <td>2332800</td>\n",
       "      <td>16.0</td>\n",
       "      <td>3800</td>\n",
       "      <td>4.3</td>\n",
       "      <td>60</td>\n",
       "      <td>61</td>\n",
       "      <td>72380.0</td>\n",
       "    </tr>\n",
       "    <tr>\n",
       "      <th>573</th>\n",
       "      <td>LG</td>\n",
       "      <td>Android</td>\n",
       "      <td>128</td>\n",
       "      <td>4.0</td>\n",
       "      <td>6.00</td>\n",
       "      <td>4147200</td>\n",
       "      <td>5.0</td>\n",
       "      <td>3300</td>\n",
       "      <td>4.6</td>\n",
       "      <td>9</td>\n",
       "      <td>70</td>\n",
       "      <td>89000.0</td>\n",
       "    </tr>\n",
       "    <tr>\n",
       "      <th>510</th>\n",
       "      <td>other</td>\n",
       "      <td>Android</td>\n",
       "      <td>8</td>\n",
       "      <td>1.0</td>\n",
       "      <td>5.00</td>\n",
       "      <td>409920</td>\n",
       "      <td>5.0</td>\n",
       "      <td>2500</td>\n",
       "      <td>4.0</td>\n",
       "      <td>13</td>\n",
       "      <td>32</td>\n",
       "      <td>7000.0</td>\n",
       "    </tr>\n",
       "    <tr>\n",
       "      <th>285</th>\n",
       "      <td>Oppo</td>\n",
       "      <td>Android</td>\n",
       "      <td>128</td>\n",
       "      <td>8.0</td>\n",
       "      <td>6.43</td>\n",
       "      <td>2592000</td>\n",
       "      <td>16.0</td>\n",
       "      <td>4000</td>\n",
       "      <td>4.7</td>\n",
       "      <td>9</td>\n",
       "      <td>98</td>\n",
       "      <td>20999.0</td>\n",
       "    </tr>\n",
       "    <tr>\n",
       "      <th>886</th>\n",
       "      <td>Infinix</td>\n",
       "      <td>Android</td>\n",
       "      <td>16</td>\n",
       "      <td>1.0</td>\n",
       "      <td>5.50</td>\n",
       "      <td>921600</td>\n",
       "      <td>5.0</td>\n",
       "      <td>4000</td>\n",
       "      <td>3.7</td>\n",
       "      <td>25</td>\n",
       "      <td>38</td>\n",
       "      <td>5699.0</td>\n",
       "    </tr>\n",
       "    <tr>\n",
       "      <th>713</th>\n",
       "      <td>Realme</td>\n",
       "      <td>Android</td>\n",
       "      <td>128</td>\n",
       "      <td>4.0</td>\n",
       "      <td>6.50</td>\n",
       "      <td>2592000</td>\n",
       "      <td>16.0</td>\n",
       "      <td>4300</td>\n",
       "      <td>5.0</td>\n",
       "      <td>7</td>\n",
       "      <td>100</td>\n",
       "      <td>12999.0</td>\n",
       "    </tr>\n",
       "  </tbody>\n",
       "</table>\n",
       "</div>"
      ],
      "text/plain": [
       "    phone_make       OS  ROM   RAM  screen_size  back_camera  front_camera  \\\n",
       "711     Realme  Android  128   6.0         6.50      1152000           8.0   \n",
       "233     Xiaomi  Android   64   6.0         6.39      2527200          20.0   \n",
       "764     Huawei  Android  128   4.0         6.53      2423520          24.0   \n",
       "341    Samsung  Android  256  12.0         6.90      4446720          10.0   \n",
       "200      Nokia  Android   64   4.0         6.00      2332800          16.0   \n",
       "573         LG  Android  128   4.0         6.00      4147200           5.0   \n",
       "510      other  Android    8   1.0         5.00       409920           5.0   \n",
       "285       Oppo  Android  128   8.0         6.43      2592000          16.0   \n",
       "886    Infinix  Android   16   1.0         5.50       921600           5.0   \n",
       "713     Realme  Android  128   4.0         6.50      2592000          16.0   \n",
       "\n",
       "     Battery  Rating  Likes  specs_score     price  \n",
       "711     5000     5.0      2           69   12999.0  \n",
       "233     4000     3.9     18           95   37500.0  \n",
       "764     4000     4.5      9           67   50000.0  \n",
       "341     4500     5.0     17          100  130999.0  \n",
       "200     3800     4.3     60           61   72380.0  \n",
       "573     3300     4.6      9           70   89000.0  \n",
       "510     2500     4.0     13           32    7000.0  \n",
       "285     4000     4.7      9           98   20999.0  \n",
       "886     4000     3.7     25           38    5699.0  \n",
       "713     4300     5.0      7          100   12999.0  "
      ]
     },
     "execution_count": 90,
     "metadata": {},
     "output_type": "execute_result"
    }
   ],
   "source": [
    "df2.sample(10)"
   ]
  },
  {
   "cell_type": "code",
   "execution_count": 91,
   "id": "5556d3b5",
   "metadata": {},
   "outputs": [
    {
     "data": {
      "text/plain": [
       "array(['Android', 'iOS'], dtype=object)"
      ]
     },
     "execution_count": 91,
     "metadata": {},
     "output_type": "execute_result"
    }
   ],
   "source": [
    "df2.OS.unique()"
   ]
  },
  {
   "cell_type": "code",
   "execution_count": 92,
   "id": "314da12b",
   "metadata": {},
   "outputs": [],
   "source": [
    "df2['OS'].replace({'Android':1,'iOS':0},inplace=True)"
   ]
  },
  {
   "cell_type": "code",
   "execution_count": 93,
   "id": "6eb7adc9",
   "metadata": {},
   "outputs": [
    {
     "data": {
      "text/html": [
       "<div>\n",
       "<style scoped>\n",
       "    .dataframe tbody tr th:only-of-type {\n",
       "        vertical-align: middle;\n",
       "    }\n",
       "\n",
       "    .dataframe tbody tr th {\n",
       "        vertical-align: top;\n",
       "    }\n",
       "\n",
       "    .dataframe thead th {\n",
       "        text-align: right;\n",
       "    }\n",
       "</style>\n",
       "<table border=\"1\" class=\"dataframe\">\n",
       "  <thead>\n",
       "    <tr style=\"text-align: right;\">\n",
       "      <th></th>\n",
       "      <th>phone_make</th>\n",
       "      <th>OS</th>\n",
       "      <th>ROM</th>\n",
       "      <th>RAM</th>\n",
       "      <th>screen_size</th>\n",
       "      <th>back_camera</th>\n",
       "      <th>front_camera</th>\n",
       "      <th>Battery</th>\n",
       "      <th>Rating</th>\n",
       "      <th>Likes</th>\n",
       "      <th>specs_score</th>\n",
       "      <th>price</th>\n",
       "    </tr>\n",
       "  </thead>\n",
       "  <tbody>\n",
       "    <tr>\n",
       "      <th>852</th>\n",
       "      <td>Xiaomi</td>\n",
       "      <td>1</td>\n",
       "      <td>64</td>\n",
       "      <td>3.0</td>\n",
       "      <td>6.53</td>\n",
       "      <td>2527200</td>\n",
       "      <td>13.0</td>\n",
       "      <td>5020</td>\n",
       "      <td>4.5</td>\n",
       "      <td>7</td>\n",
       "      <td>87</td>\n",
       "      <td>8850.0</td>\n",
       "    </tr>\n",
       "    <tr>\n",
       "      <th>871</th>\n",
       "      <td>Infinix</td>\n",
       "      <td>1</td>\n",
       "      <td>16</td>\n",
       "      <td>2.0</td>\n",
       "      <td>6.20</td>\n",
       "      <td>1080000</td>\n",
       "      <td>8.0</td>\n",
       "      <td>4000</td>\n",
       "      <td>3.3</td>\n",
       "      <td>25</td>\n",
       "      <td>43</td>\n",
       "      <td>13500.0</td>\n",
       "    </tr>\n",
       "    <tr>\n",
       "      <th>302</th>\n",
       "      <td>Oppo</td>\n",
       "      <td>1</td>\n",
       "      <td>128</td>\n",
       "      <td>4.0</td>\n",
       "      <td>6.50</td>\n",
       "      <td>2592000</td>\n",
       "      <td>16.0</td>\n",
       "      <td>5000</td>\n",
       "      <td>5.0</td>\n",
       "      <td>7</td>\n",
       "      <td>93</td>\n",
       "      <td>1140.0</td>\n",
       "    </tr>\n",
       "    <tr>\n",
       "      <th>355</th>\n",
       "      <td>Samsung</td>\n",
       "      <td>1</td>\n",
       "      <td>64</td>\n",
       "      <td>6.0</td>\n",
       "      <td>6.50</td>\n",
       "      <td>1152000</td>\n",
       "      <td>13.0</td>\n",
       "      <td>5000</td>\n",
       "      <td>3.2</td>\n",
       "      <td>22</td>\n",
       "      <td>91</td>\n",
       "      <td>1000.0</td>\n",
       "    </tr>\n",
       "    <tr>\n",
       "      <th>1141</th>\n",
       "      <td>Nokia</td>\n",
       "      <td>1</td>\n",
       "      <td>64</td>\n",
       "      <td>4.0</td>\n",
       "      <td>6.30</td>\n",
       "      <td>2462400</td>\n",
       "      <td>8.0</td>\n",
       "      <td>3500</td>\n",
       "      <td>5.0</td>\n",
       "      <td>30</td>\n",
       "      <td>61</td>\n",
       "      <td>20500.0</td>\n",
       "    </tr>\n",
       "  </tbody>\n",
       "</table>\n",
       "</div>"
      ],
      "text/plain": [
       "     phone_make  OS  ROM  RAM  screen_size  back_camera  front_camera  \\\n",
       "852      Xiaomi   1   64  3.0         6.53      2527200          13.0   \n",
       "871     Infinix   1   16  2.0         6.20      1080000           8.0   \n",
       "302        Oppo   1  128  4.0         6.50      2592000          16.0   \n",
       "355     Samsung   1   64  6.0         6.50      1152000          13.0   \n",
       "1141      Nokia   1   64  4.0         6.30      2462400           8.0   \n",
       "\n",
       "      Battery  Rating  Likes  specs_score    price  \n",
       "852      5020     4.5      7           87   8850.0  \n",
       "871      4000     3.3     25           43  13500.0  \n",
       "302      5000     5.0      7           93   1140.0  \n",
       "355      5000     3.2     22           91   1000.0  \n",
       "1141     3500     5.0     30           61  20500.0  "
      ]
     },
     "execution_count": 93,
     "metadata": {},
     "output_type": "execute_result"
    }
   ],
   "source": [
    "df2.sample(5)"
   ]
  },
  {
   "cell_type": "code",
   "execution_count": 94,
   "id": "6aba72fc",
   "metadata": {
    "scrolled": true
   },
   "outputs": [
    {
     "data": {
      "text/html": [
       "<div>\n",
       "<style scoped>\n",
       "    .dataframe tbody tr th:only-of-type {\n",
       "        vertical-align: middle;\n",
       "    }\n",
       "\n",
       "    .dataframe tbody tr th {\n",
       "        vertical-align: top;\n",
       "    }\n",
       "\n",
       "    .dataframe thead th {\n",
       "        text-align: right;\n",
       "    }\n",
       "</style>\n",
       "<table border=\"1\" class=\"dataframe\">\n",
       "  <thead>\n",
       "    <tr style=\"text-align: right;\">\n",
       "      <th></th>\n",
       "      <th>Apple</th>\n",
       "      <th>BlackBerry</th>\n",
       "      <th>Google</th>\n",
       "      <th>HTC</th>\n",
       "      <th>Huawei</th>\n",
       "      <th>Infinix</th>\n",
       "      <th>LG</th>\n",
       "      <th>Lenovo</th>\n",
       "      <th>Nokia</th>\n",
       "      <th>OnePlus</th>\n",
       "      <th>Oppo</th>\n",
       "      <th>Realme</th>\n",
       "      <th>Samsung</th>\n",
       "      <th>Sony</th>\n",
       "      <th>Tecno</th>\n",
       "      <th>Xiaomi</th>\n",
       "      <th>other</th>\n",
       "    </tr>\n",
       "  </thead>\n",
       "  <tbody>\n",
       "    <tr>\n",
       "      <th>0</th>\n",
       "      <td>0</td>\n",
       "      <td>0</td>\n",
       "      <td>0</td>\n",
       "      <td>0</td>\n",
       "      <td>0</td>\n",
       "      <td>0</td>\n",
       "      <td>0</td>\n",
       "      <td>0</td>\n",
       "      <td>0</td>\n",
       "      <td>0</td>\n",
       "      <td>0</td>\n",
       "      <td>0</td>\n",
       "      <td>0</td>\n",
       "      <td>0</td>\n",
       "      <td>0</td>\n",
       "      <td>0</td>\n",
       "      <td>1</td>\n",
       "    </tr>\n",
       "    <tr>\n",
       "      <th>1</th>\n",
       "      <td>0</td>\n",
       "      <td>0</td>\n",
       "      <td>0</td>\n",
       "      <td>0</td>\n",
       "      <td>0</td>\n",
       "      <td>0</td>\n",
       "      <td>0</td>\n",
       "      <td>0</td>\n",
       "      <td>0</td>\n",
       "      <td>0</td>\n",
       "      <td>0</td>\n",
       "      <td>0</td>\n",
       "      <td>0</td>\n",
       "      <td>0</td>\n",
       "      <td>0</td>\n",
       "      <td>0</td>\n",
       "      <td>1</td>\n",
       "    </tr>\n",
       "    <tr>\n",
       "      <th>2</th>\n",
       "      <td>0</td>\n",
       "      <td>0</td>\n",
       "      <td>0</td>\n",
       "      <td>0</td>\n",
       "      <td>0</td>\n",
       "      <td>0</td>\n",
       "      <td>0</td>\n",
       "      <td>0</td>\n",
       "      <td>0</td>\n",
       "      <td>0</td>\n",
       "      <td>0</td>\n",
       "      <td>0</td>\n",
       "      <td>1</td>\n",
       "      <td>0</td>\n",
       "      <td>0</td>\n",
       "      <td>0</td>\n",
       "      <td>0</td>\n",
       "    </tr>\n",
       "  </tbody>\n",
       "</table>\n",
       "</div>"
      ],
      "text/plain": [
       "   Apple  BlackBerry  Google  HTC  Huawei  Infinix  LG  Lenovo  Nokia  \\\n",
       "0      0           0       0    0       0        0   0       0      0   \n",
       "1      0           0       0    0       0        0   0       0      0   \n",
       "2      0           0       0    0       0        0   0       0      0   \n",
       "\n",
       "   OnePlus  Oppo  Realme  Samsung  Sony  Tecno  Xiaomi  other  \n",
       "0        0     0       0        0     0      0       0      1  \n",
       "1        0     0       0        0     0      0       0      1  \n",
       "2        0     0       0        1     0      0       0      0  "
      ]
     },
     "execution_count": 94,
     "metadata": {},
     "output_type": "execute_result"
    }
   ],
   "source": [
    "dummies= pd.get_dummies(df2.phone_make)\n",
    "dummies.head(3)"
   ]
  },
  {
   "cell_type": "code",
   "execution_count": 95,
   "id": "957a9e72",
   "metadata": {
    "scrolled": true
   },
   "outputs": [
    {
     "data": {
      "text/html": [
       "<div>\n",
       "<style scoped>\n",
       "    .dataframe tbody tr th:only-of-type {\n",
       "        vertical-align: middle;\n",
       "    }\n",
       "\n",
       "    .dataframe tbody tr th {\n",
       "        vertical-align: top;\n",
       "    }\n",
       "\n",
       "    .dataframe thead th {\n",
       "        text-align: right;\n",
       "    }\n",
       "</style>\n",
       "<table border=\"1\" class=\"dataframe\">\n",
       "  <thead>\n",
       "    <tr style=\"text-align: right;\">\n",
       "      <th></th>\n",
       "      <th>phone_make</th>\n",
       "      <th>OS</th>\n",
       "      <th>ROM</th>\n",
       "      <th>RAM</th>\n",
       "      <th>screen_size</th>\n",
       "      <th>back_camera</th>\n",
       "      <th>front_camera</th>\n",
       "      <th>Battery</th>\n",
       "      <th>Rating</th>\n",
       "      <th>Likes</th>\n",
       "      <th>...</th>\n",
       "      <th>LG</th>\n",
       "      <th>Lenovo</th>\n",
       "      <th>Nokia</th>\n",
       "      <th>OnePlus</th>\n",
       "      <th>Oppo</th>\n",
       "      <th>Realme</th>\n",
       "      <th>Samsung</th>\n",
       "      <th>Sony</th>\n",
       "      <th>Tecno</th>\n",
       "      <th>Xiaomi</th>\n",
       "    </tr>\n",
       "  </thead>\n",
       "  <tbody>\n",
       "    <tr>\n",
       "      <th>0</th>\n",
       "      <td>other</td>\n",
       "      <td>1</td>\n",
       "      <td>64</td>\n",
       "      <td>4.0</td>\n",
       "      <td>6.00</td>\n",
       "      <td>1036800</td>\n",
       "      <td>8.0</td>\n",
       "      <td>4000</td>\n",
       "      <td>4.0</td>\n",
       "      <td>13</td>\n",
       "      <td>...</td>\n",
       "      <td>0</td>\n",
       "      <td>0</td>\n",
       "      <td>0</td>\n",
       "      <td>0</td>\n",
       "      <td>0</td>\n",
       "      <td>0</td>\n",
       "      <td>0</td>\n",
       "      <td>0</td>\n",
       "      <td>0</td>\n",
       "      <td>0</td>\n",
       "    </tr>\n",
       "    <tr>\n",
       "      <th>1</th>\n",
       "      <td>other</td>\n",
       "      <td>1</td>\n",
       "      <td>64</td>\n",
       "      <td>6.0</td>\n",
       "      <td>6.01</td>\n",
       "      <td>2332800</td>\n",
       "      <td>8.0</td>\n",
       "      <td>4000</td>\n",
       "      <td>4.5</td>\n",
       "      <td>8</td>\n",
       "      <td>...</td>\n",
       "      <td>0</td>\n",
       "      <td>0</td>\n",
       "      <td>0</td>\n",
       "      <td>0</td>\n",
       "      <td>0</td>\n",
       "      <td>0</td>\n",
       "      <td>0</td>\n",
       "      <td>0</td>\n",
       "      <td>0</td>\n",
       "      <td>0</td>\n",
       "    </tr>\n",
       "    <tr>\n",
       "      <th>2</th>\n",
       "      <td>Samsung</td>\n",
       "      <td>1</td>\n",
       "      <td>128</td>\n",
       "      <td>6.0</td>\n",
       "      <td>6.40</td>\n",
       "      <td>2527200</td>\n",
       "      <td>20.0</td>\n",
       "      <td>6000</td>\n",
       "      <td>4.3</td>\n",
       "      <td>30</td>\n",
       "      <td>...</td>\n",
       "      <td>0</td>\n",
       "      <td>0</td>\n",
       "      <td>0</td>\n",
       "      <td>0</td>\n",
       "      <td>0</td>\n",
       "      <td>0</td>\n",
       "      <td>1</td>\n",
       "      <td>0</td>\n",
       "      <td>0</td>\n",
       "      <td>0</td>\n",
       "    </tr>\n",
       "  </tbody>\n",
       "</table>\n",
       "<p>3 rows × 28 columns</p>\n",
       "</div>"
      ],
      "text/plain": [
       "  phone_make  OS  ROM  RAM  screen_size  back_camera  front_camera  Battery  \\\n",
       "0      other   1   64  4.0         6.00      1036800           8.0     4000   \n",
       "1      other   1   64  6.0         6.01      2332800           8.0     4000   \n",
       "2    Samsung   1  128  6.0         6.40      2527200          20.0     6000   \n",
       "\n",
       "   Rating  Likes  ...  LG  Lenovo  Nokia  OnePlus  Oppo  Realme  Samsung  \\\n",
       "0     4.0     13  ...   0       0      0        0     0       0        0   \n",
       "1     4.5      8  ...   0       0      0        0     0       0        0   \n",
       "2     4.3     30  ...   0       0      0        0     0       0        1   \n",
       "\n",
       "   Sony  Tecno  Xiaomi  \n",
       "0     0      0       0  \n",
       "1     0      0       0  \n",
       "2     0      0       0  \n",
       "\n",
       "[3 rows x 28 columns]"
      ]
     },
     "execution_count": 95,
     "metadata": {},
     "output_type": "execute_result"
    }
   ],
   "source": [
    "#we now join these dummies to our main dataframe and as normal rule for dummies, we drop one column in this case other column\n",
    "df3 = pd.concat([df2,dummies.drop('other',axis='columns')], axis='columns')\n",
    "df3.head(3)"
   ]
  },
  {
   "cell_type": "code",
   "execution_count": 96,
   "id": "d357b6f0",
   "metadata": {
    "scrolled": true
   },
   "outputs": [
    {
     "data": {
      "text/html": [
       "<div>\n",
       "<style scoped>\n",
       "    .dataframe tbody tr th:only-of-type {\n",
       "        vertical-align: middle;\n",
       "    }\n",
       "\n",
       "    .dataframe tbody tr th {\n",
       "        vertical-align: top;\n",
       "    }\n",
       "\n",
       "    .dataframe thead th {\n",
       "        text-align: right;\n",
       "    }\n",
       "</style>\n",
       "<table border=\"1\" class=\"dataframe\">\n",
       "  <thead>\n",
       "    <tr style=\"text-align: right;\">\n",
       "      <th></th>\n",
       "      <th>OS</th>\n",
       "      <th>ROM</th>\n",
       "      <th>RAM</th>\n",
       "      <th>screen_size</th>\n",
       "      <th>back_camera</th>\n",
       "      <th>front_camera</th>\n",
       "      <th>Battery</th>\n",
       "      <th>Rating</th>\n",
       "      <th>Likes</th>\n",
       "      <th>specs_score</th>\n",
       "      <th>...</th>\n",
       "      <th>LG</th>\n",
       "      <th>Lenovo</th>\n",
       "      <th>Nokia</th>\n",
       "      <th>OnePlus</th>\n",
       "      <th>Oppo</th>\n",
       "      <th>Realme</th>\n",
       "      <th>Samsung</th>\n",
       "      <th>Sony</th>\n",
       "      <th>Tecno</th>\n",
       "      <th>Xiaomi</th>\n",
       "    </tr>\n",
       "  </thead>\n",
       "  <tbody>\n",
       "    <tr>\n",
       "      <th>0</th>\n",
       "      <td>1</td>\n",
       "      <td>64</td>\n",
       "      <td>4.0</td>\n",
       "      <td>6.00</td>\n",
       "      <td>1036800</td>\n",
       "      <td>8.0</td>\n",
       "      <td>4000</td>\n",
       "      <td>4.0</td>\n",
       "      <td>13</td>\n",
       "      <td>56</td>\n",
       "      <td>...</td>\n",
       "      <td>0</td>\n",
       "      <td>0</td>\n",
       "      <td>0</td>\n",
       "      <td>0</td>\n",
       "      <td>0</td>\n",
       "      <td>0</td>\n",
       "      <td>0</td>\n",
       "      <td>0</td>\n",
       "      <td>0</td>\n",
       "      <td>0</td>\n",
       "    </tr>\n",
       "    <tr>\n",
       "      <th>1</th>\n",
       "      <td>1</td>\n",
       "      <td>64</td>\n",
       "      <td>6.0</td>\n",
       "      <td>6.01</td>\n",
       "      <td>2332800</td>\n",
       "      <td>8.0</td>\n",
       "      <td>4000</td>\n",
       "      <td>4.5</td>\n",
       "      <td>8</td>\n",
       "      <td>69</td>\n",
       "      <td>...</td>\n",
       "      <td>0</td>\n",
       "      <td>0</td>\n",
       "      <td>0</td>\n",
       "      <td>0</td>\n",
       "      <td>0</td>\n",
       "      <td>0</td>\n",
       "      <td>0</td>\n",
       "      <td>0</td>\n",
       "      <td>0</td>\n",
       "      <td>0</td>\n",
       "    </tr>\n",
       "  </tbody>\n",
       "</table>\n",
       "<p>2 rows × 27 columns</p>\n",
       "</div>"
      ],
      "text/plain": [
       "   OS  ROM  RAM  screen_size  back_camera  front_camera  Battery  Rating  \\\n",
       "0   1   64  4.0         6.00      1036800           8.0     4000     4.0   \n",
       "1   1   64  6.0         6.01      2332800           8.0     4000     4.5   \n",
       "\n",
       "   Likes  specs_score  ...  LG  Lenovo  Nokia  OnePlus  Oppo  Realme  Samsung  \\\n",
       "0     13           56  ...   0       0      0        0     0       0        0   \n",
       "1      8           69  ...   0       0      0        0     0       0        0   \n",
       "\n",
       "   Sony  Tecno  Xiaomi  \n",
       "0     0      0       0  \n",
       "1     0      0       0  \n",
       "\n",
       "[2 rows x 27 columns]"
      ]
     },
     "execution_count": 96,
     "metadata": {},
     "output_type": "execute_result"
    }
   ],
   "source": [
    "#we can now drop phone_make column since we have created dummies out of it\n",
    "df4 = df3.drop('phone_make',axis='columns')\n",
    "df4.head(2)"
   ]
  },
  {
   "cell_type": "code",
   "execution_count": 97,
   "id": "ffc6eff3",
   "metadata": {
    "scrolled": true
   },
   "outputs": [
    {
     "data": {
      "text/plain": [
       "(855, 27)"
      ]
     },
     "execution_count": 97,
     "metadata": {},
     "output_type": "execute_result"
    }
   ],
   "source": [
    "df4.shape"
   ]
  },
  {
   "cell_type": "code",
   "execution_count": 98,
   "id": "33aaeabe",
   "metadata": {
    "scrolled": true
   },
   "outputs": [
    {
     "data": {
      "text/html": [
       "<div>\n",
       "<style scoped>\n",
       "    .dataframe tbody tr th:only-of-type {\n",
       "        vertical-align: middle;\n",
       "    }\n",
       "\n",
       "    .dataframe tbody tr th {\n",
       "        vertical-align: top;\n",
       "    }\n",
       "\n",
       "    .dataframe thead th {\n",
       "        text-align: right;\n",
       "    }\n",
       "</style>\n",
       "<table border=\"1\" class=\"dataframe\">\n",
       "  <thead>\n",
       "    <tr style=\"text-align: right;\">\n",
       "      <th></th>\n",
       "      <th>OS</th>\n",
       "      <th>ROM</th>\n",
       "      <th>RAM</th>\n",
       "      <th>screen_size</th>\n",
       "      <th>back_camera</th>\n",
       "      <th>front_camera</th>\n",
       "      <th>Battery</th>\n",
       "      <th>Rating</th>\n",
       "      <th>Likes</th>\n",
       "      <th>specs_score</th>\n",
       "      <th>...</th>\n",
       "      <th>LG</th>\n",
       "      <th>Lenovo</th>\n",
       "      <th>Nokia</th>\n",
       "      <th>OnePlus</th>\n",
       "      <th>Oppo</th>\n",
       "      <th>Realme</th>\n",
       "      <th>Samsung</th>\n",
       "      <th>Sony</th>\n",
       "      <th>Tecno</th>\n",
       "      <th>Xiaomi</th>\n",
       "    </tr>\n",
       "  </thead>\n",
       "  <tbody>\n",
       "    <tr>\n",
       "      <th>0</th>\n",
       "      <td>1</td>\n",
       "      <td>64</td>\n",
       "      <td>4.0</td>\n",
       "      <td>6.00</td>\n",
       "      <td>1036800</td>\n",
       "      <td>8.0</td>\n",
       "      <td>4000</td>\n",
       "      <td>4.0</td>\n",
       "      <td>13</td>\n",
       "      <td>56</td>\n",
       "      <td>...</td>\n",
       "      <td>0</td>\n",
       "      <td>0</td>\n",
       "      <td>0</td>\n",
       "      <td>0</td>\n",
       "      <td>0</td>\n",
       "      <td>0</td>\n",
       "      <td>0</td>\n",
       "      <td>0</td>\n",
       "      <td>0</td>\n",
       "      <td>0</td>\n",
       "    </tr>\n",
       "    <tr>\n",
       "      <th>1</th>\n",
       "      <td>1</td>\n",
       "      <td>64</td>\n",
       "      <td>6.0</td>\n",
       "      <td>6.01</td>\n",
       "      <td>2332800</td>\n",
       "      <td>8.0</td>\n",
       "      <td>4000</td>\n",
       "      <td>4.5</td>\n",
       "      <td>8</td>\n",
       "      <td>69</td>\n",
       "      <td>...</td>\n",
       "      <td>0</td>\n",
       "      <td>0</td>\n",
       "      <td>0</td>\n",
       "      <td>0</td>\n",
       "      <td>0</td>\n",
       "      <td>0</td>\n",
       "      <td>0</td>\n",
       "      <td>0</td>\n",
       "      <td>0</td>\n",
       "      <td>0</td>\n",
       "    </tr>\n",
       "  </tbody>\n",
       "</table>\n",
       "<p>2 rows × 26 columns</p>\n",
       "</div>"
      ],
      "text/plain": [
       "   OS  ROM  RAM  screen_size  back_camera  front_camera  Battery  Rating  \\\n",
       "0   1   64  4.0         6.00      1036800           8.0     4000     4.0   \n",
       "1   1   64  6.0         6.01      2332800           8.0     4000     4.5   \n",
       "\n",
       "   Likes  specs_score  ...  LG  Lenovo  Nokia  OnePlus  Oppo  Realme  Samsung  \\\n",
       "0     13           56  ...   0       0      0        0     0       0        0   \n",
       "1      8           69  ...   0       0      0        0     0       0        0   \n",
       "\n",
       "   Sony  Tecno  Xiaomi  \n",
       "0     0      0       0  \n",
       "1     0      0       0  \n",
       "\n",
       "[2 rows x 26 columns]"
      ]
     },
     "execution_count": 98,
     "metadata": {},
     "output_type": "execute_result"
    }
   ],
   "source": [
    "#we now create our X and y variables\n",
    "X = df4.drop('price', axis = 'columns')\n",
    "X.head(2)"
   ]
  },
  {
   "cell_type": "code",
   "execution_count": 99,
   "id": "1d7bb199",
   "metadata": {
    "scrolled": true
   },
   "outputs": [
    {
     "data": {
      "text/plain": [
       "0    11800.0\n",
       "1     7999.0\n",
       "Name: price, dtype: float64"
      ]
     },
     "execution_count": 99,
     "metadata": {},
     "output_type": "execute_result"
    }
   ],
   "source": [
    "y = df4.price\n",
    "y.head(2)"
   ]
  },
  {
   "cell_type": "code",
   "execution_count": 100,
   "id": "6517d080",
   "metadata": {},
   "outputs": [],
   "source": [
    "#we can now split our dataset for training and testing\n",
    "from sklearn.model_selection import train_test_split\n",
    "X_train, X_test, y_train, y_test = train_test_split(X,y, test_size = 0.2, random_state=10)"
   ]
  },
  {
   "cell_type": "code",
   "execution_count": 101,
   "id": "35274244",
   "metadata": {},
   "outputs": [],
   "source": [
    "#we can now create a linear model for the train dataset\n",
    "from sklearn.linear_model import LinearRegression\n",
    "lr_clf = LinearRegression()\n",
    "lr_clf.fit(X_train,y_train)\n",
    "lr_clf.score(X_test,y_test)\n",
    "y_pred = lr_clf.predict(X_test)"
   ]
  },
  {
   "cell_type": "code",
   "execution_count": 102,
   "id": "fe28d6d8",
   "metadata": {},
   "outputs": [
    {
     "data": {
      "text/plain": [
       "314    124999.0\n",
       "764     50000.0\n",
       "376     28000.0\n",
       "882      1719.0\n",
       "548     12990.0\n",
       "Name: price, dtype: float64"
      ]
     },
     "execution_count": 102,
     "metadata": {},
     "output_type": "execute_result"
    }
   ],
   "source": [
    "y_test.head(5)"
   ]
  },
  {
   "cell_type": "code",
   "execution_count": 103,
   "id": "15d480d5",
   "metadata": {},
   "outputs": [
    {
     "data": {
      "text/plain": [
       "array([43000.38342285, 28075.37402344, 22650.60571289,  5141.37646484,\n",
       "       15079.94921875])"
      ]
     },
     "execution_count": 103,
     "metadata": {},
     "output_type": "execute_result"
    }
   ],
   "source": [
    "y_pred[:5]"
   ]
  },
  {
   "cell_type": "code",
   "execution_count": 104,
   "id": "817c742b",
   "metadata": {},
   "outputs": [
    {
     "data": {
      "text/plain": [
       "array([0.24223633, 0.10227693, 0.16084724, 0.26164709, 0.18998108])"
      ]
     },
     "execution_count": 104,
     "metadata": {},
     "output_type": "execute_result"
    }
   ],
   "source": [
    "#we can try a couple of models with different models to comeup with best model\n",
    "#lets begin with k fold cross validation cv\n",
    "from sklearn.model_selection import ShuffleSplit\n",
    "from sklearn.model_selection import cross_val_score\n",
    "\n",
    "cv = ShuffleSplit(n_splits=5, test_size = 0.2, random_state =0)\n",
    "\n",
    "cross_val_score(LinearRegression(),X,y, cv=cv)"
   ]
  },
  {
   "cell_type": "code",
   "execution_count": 105,
   "id": "5e4064d7",
   "metadata": {
    "scrolled": false
   },
   "outputs": [
    {
     "data": {
      "text/html": [
       "<div>\n",
       "<style scoped>\n",
       "    .dataframe tbody tr th:only-of-type {\n",
       "        vertical-align: middle;\n",
       "    }\n",
       "\n",
       "    .dataframe tbody tr th {\n",
       "        vertical-align: top;\n",
       "    }\n",
       "\n",
       "    .dataframe thead th {\n",
       "        text-align: right;\n",
       "    }\n",
       "</style>\n",
       "<table border=\"1\" class=\"dataframe\">\n",
       "  <thead>\n",
       "    <tr style=\"text-align: right;\">\n",
       "      <th></th>\n",
       "      <th>model</th>\n",
       "      <th>best_score</th>\n",
       "      <th>best_params</th>\n",
       "    </tr>\n",
       "  </thead>\n",
       "  <tbody>\n",
       "    <tr>\n",
       "      <th>0</th>\n",
       "      <td>linear_regression</td>\n",
       "      <td>0.192697</td>\n",
       "      <td>{'normalize': True}</td>\n",
       "    </tr>\n",
       "    <tr>\n",
       "      <th>1</th>\n",
       "      <td>lasso</td>\n",
       "      <td>0.191843</td>\n",
       "      <td>{'alpha': 2, 'selection': 'random'}</td>\n",
       "    </tr>\n",
       "    <tr>\n",
       "      <th>2</th>\n",
       "      <td>decision_tree</td>\n",
       "      <td>-0.293657</td>\n",
       "      <td>{'criterion': 'mse', 'splitter': 'random'}</td>\n",
       "    </tr>\n",
       "  </tbody>\n",
       "</table>\n",
       "</div>"
      ],
      "text/plain": [
       "               model  best_score                                 best_params\n",
       "0  linear_regression    0.192697                         {'normalize': True}\n",
       "1              lasso    0.191843         {'alpha': 2, 'selection': 'random'}\n",
       "2      decision_tree   -0.293657  {'criterion': 'mse', 'splitter': 'random'}"
      ]
     },
     "execution_count": 105,
     "metadata": {},
     "output_type": "execute_result"
    }
   ],
   "source": [
    "#we can try different algorithms to see which one gives the best model using gridsearch cv\n",
    "from sklearn.model_selection import GridSearchCV\n",
    "\n",
    "from sklearn.linear_model import Lasso\n",
    "from sklearn.tree import DecisionTreeRegressor\n",
    "\n",
    "def find_best_model_using_gridsearchcv(X,y):\n",
    "    algos = {\n",
    "        'linear_regression': {\n",
    "            'model': LinearRegression(),\n",
    "            'params': {\n",
    "                'normalize': [True, False]\n",
    "                \n",
    "            }\n",
    "        },\n",
    "        'lasso': {\n",
    "            'model': Lasso(),\n",
    "            'params': {\n",
    "                'alpha': [1,2],\n",
    "                'selection': ['random','cyclinic']\n",
    "            }\n",
    "        },\n",
    "        'decision_tree': {\n",
    "            'model': DecisionTreeRegressor(),\n",
    "            'params': {\n",
    "                'criterion': ['mse','friedman_mse'],\n",
    "                'splitter': ['best','random']\n",
    "            }\n",
    "        }\n",
    "    }\n",
    "    \n",
    "    scores = []\n",
    "    cv = ShuffleSplit(n_splits=5, test_size=0.2, random_state = 0)\n",
    "    for algo_name, config in algos.items():\n",
    "        gs = GridSearchCV(config['model'],config['params'],cv=cv, return_train_score = False)\n",
    "        gs.fit(X,y)\n",
    "        scores.append({\n",
    "            'model': algo_name,\n",
    "            'best_score': gs.best_score_,\n",
    "            'best_params': gs.best_params_\n",
    "        })\n",
    "    return pd.DataFrame(scores,columns=['model','best_score','best_params'])\n",
    "\n",
    "find_best_model_using_gridsearchcv(X,y)"
   ]
  },
  {
   "cell_type": "code",
   "execution_count": 106,
   "id": "765d5700",
   "metadata": {},
   "outputs": [
    {
     "data": {
      "text/html": [
       "<div>\n",
       "<style scoped>\n",
       "    .dataframe tbody tr th:only-of-type {\n",
       "        vertical-align: middle;\n",
       "    }\n",
       "\n",
       "    .dataframe tbody tr th {\n",
       "        vertical-align: top;\n",
       "    }\n",
       "\n",
       "    .dataframe thead th {\n",
       "        text-align: right;\n",
       "    }\n",
       "</style>\n",
       "<table border=\"1\" class=\"dataframe\">\n",
       "  <thead>\n",
       "    <tr style=\"text-align: right;\">\n",
       "      <th></th>\n",
       "      <th>phone_make</th>\n",
       "      <th>OS</th>\n",
       "      <th>ROM</th>\n",
       "      <th>RAM</th>\n",
       "      <th>screen_size</th>\n",
       "      <th>back_camera</th>\n",
       "      <th>front_camera</th>\n",
       "      <th>Battery</th>\n",
       "      <th>Rating</th>\n",
       "      <th>Likes</th>\n",
       "      <th>specs_score</th>\n",
       "      <th>price</th>\n",
       "    </tr>\n",
       "  </thead>\n",
       "  <tbody>\n",
       "    <tr>\n",
       "      <th>952</th>\n",
       "      <td>Huawei</td>\n",
       "      <td>1</td>\n",
       "      <td>128</td>\n",
       "      <td>8.0</td>\n",
       "      <td>6.40</td>\n",
       "      <td>2494800</td>\n",
       "      <td>25.0</td>\n",
       "      <td>3750</td>\n",
       "      <td>3.5</td>\n",
       "      <td>27</td>\n",
       "      <td>99</td>\n",
       "      <td>43750.0</td>\n",
       "    </tr>\n",
       "    <tr>\n",
       "      <th>1074</th>\n",
       "      <td>Apple</td>\n",
       "      <td>0</td>\n",
       "      <td>256</td>\n",
       "      <td>2.0</td>\n",
       "      <td>4.70</td>\n",
       "      <td>1000500</td>\n",
       "      <td>7.0</td>\n",
       "      <td>1960</td>\n",
       "      <td>3.0</td>\n",
       "      <td>6</td>\n",
       "      <td>57</td>\n",
       "      <td>40000.0</td>\n",
       "    </tr>\n",
       "    <tr>\n",
       "      <th>989</th>\n",
       "      <td>BlackBerry</td>\n",
       "      <td>1</td>\n",
       "      <td>32</td>\n",
       "      <td>4.0</td>\n",
       "      <td>4.50</td>\n",
       "      <td>1749600</td>\n",
       "      <td>8.0</td>\n",
       "      <td>3000</td>\n",
       "      <td>4.5</td>\n",
       "      <td>4</td>\n",
       "      <td>56</td>\n",
       "      <td>46500.0</td>\n",
       "    </tr>\n",
       "    <tr>\n",
       "      <th>427</th>\n",
       "      <td>OnePlus</td>\n",
       "      <td>1</td>\n",
       "      <td>256</td>\n",
       "      <td>8.0</td>\n",
       "      <td>6.41</td>\n",
       "      <td>2527200</td>\n",
       "      <td>16.0</td>\n",
       "      <td>3700</td>\n",
       "      <td>3.4</td>\n",
       "      <td>21</td>\n",
       "      <td>100</td>\n",
       "      <td>50000.0</td>\n",
       "    </tr>\n",
       "    <tr>\n",
       "      <th>70</th>\n",
       "      <td>Sony</td>\n",
       "      <td>1</td>\n",
       "      <td>16</td>\n",
       "      <td>2.0</td>\n",
       "      <td>5.50</td>\n",
       "      <td>2073600</td>\n",
       "      <td>5.0</td>\n",
       "      <td>2600</td>\n",
       "      <td>2.7</td>\n",
       "      <td>6</td>\n",
       "      <td>49</td>\n",
       "      <td>10048.0</td>\n",
       "    </tr>\n",
       "  </tbody>\n",
       "</table>\n",
       "</div>"
      ],
      "text/plain": [
       "      phone_make  OS  ROM  RAM  screen_size  back_camera  front_camera  \\\n",
       "952       Huawei   1  128  8.0         6.40      2494800          25.0   \n",
       "1074       Apple   0  256  2.0         4.70      1000500           7.0   \n",
       "989   BlackBerry   1   32  4.0         4.50      1749600           8.0   \n",
       "427      OnePlus   1  256  8.0         6.41      2527200          16.0   \n",
       "70          Sony   1   16  2.0         5.50      2073600           5.0   \n",
       "\n",
       "      Battery  Rating  Likes  specs_score    price  \n",
       "952      3750     3.5     27           99  43750.0  \n",
       "1074     1960     3.0      6           57  40000.0  \n",
       "989      3000     4.5      4           56  46500.0  \n",
       "427      3700     3.4     21          100  50000.0  \n",
       "70       2600     2.7      6           49  10048.0  "
      ]
     },
     "execution_count": 106,
     "metadata": {},
     "output_type": "execute_result"
    }
   ],
   "source": [
    "df2.sample(5)"
   ]
  },
  {
   "cell_type": "code",
   "execution_count": 107,
   "id": "4b4292ee",
   "metadata": {},
   "outputs": [],
   "source": [
    "#we can confidently use the LinearRegression we trained earlier for our predictions.\n",
    "#we can now write a property price prediction function basing from our model\n",
    "def predict_price(phone_make,OS,ROM,RAM,screen_size,back_camera,front_camera,Battery,Rating,Likes,specs_score):\n",
    "    phone_index = np.where(X.columns==phone_make)[0][0]\n",
    "    \n",
    "    x=np.zeros(len(X.columns))\n",
    "    x[0] = OS\n",
    "    x[1] =  ROM\n",
    "    x[2] = RAM\n",
    "    x[3] = screen_size\n",
    "    x[4] = back_camera\n",
    "    x[5] = front_camera\n",
    "    x[6] = Battery\n",
    "    x[7] = Rating\n",
    "    x[8] = Likes\n",
    "    x[9] = specs_score\n",
    "    if phone_index >=0:\n",
    "        x[phone_index] = 1\n",
    "        \n",
    "    return lr_clf.predict([x])[0]"
   ]
  },
  {
   "cell_type": "code",
   "execution_count": 108,
   "id": "824eec47",
   "metadata": {},
   "outputs": [
    {
     "data": {
      "text/plain": [
       "24661.514770507812"
      ]
     },
     "execution_count": 108,
     "metadata": {},
     "output_type": "execute_result"
    }
   ],
   "source": [
    "#we can now predict price of different locations using the function above\n",
    "predict_price('Samsung',1,128,6.0,6.40,2527200,20.0,6000,4.3,30,100)"
   ]
  },
  {
   "cell_type": "code",
   "execution_count": 109,
   "id": "49af7cce",
   "metadata": {},
   "outputs": [
    {
     "data": {
      "text/plain": [
       "11738.169067382812"
      ]
     },
     "execution_count": 109,
     "metadata": {},
     "output_type": "execute_result"
    }
   ],
   "source": [
    "predict_price('Nokia',1,16,2.0,6.0,1036800,8.0,3500,4.5,15,51)"
   ]
  },
  {
   "cell_type": "code",
   "execution_count": 110,
   "id": "4902ba50",
   "metadata": {},
   "outputs": [
    {
     "data": {
      "text/plain": [
       "36982.58410644531"
      ]
     },
     "execution_count": 110,
     "metadata": {},
     "output_type": "execute_result"
    }
   ],
   "source": [
    "predict_price('Google',1,64,4.0,5.0,2073600,8.0,2700,2.9,11,60)"
   ]
  },
  {
   "cell_type": "code",
   "execution_count": 117,
   "id": "9bda220a",
   "metadata": {},
   "outputs": [
    {
     "data": {
      "text/plain": [
       "17405.6953125"
      ]
     },
     "execution_count": 117,
     "metadata": {},
     "output_type": "execute_result"
    }
   ],
   "source": [
    "predict_price('Samsung',1,64,4.0,5.0,2073600,8.0,2700,2.9,11,60)"
   ]
  },
  {
   "cell_type": "code",
   "execution_count": 111,
   "id": "9b22f597",
   "metadata": {},
   "outputs": [],
   "source": [
    "#we can now export our model to a pickle file to be used by our python flask server\n",
    "import pickle\n",
    "with open('kenya_phone_prices_model.pickle','wb') as f:\n",
    "    pickle.dump(lr_clf,f)"
   ]
  },
  {
   "cell_type": "code",
   "execution_count": 112,
   "id": "6447464c",
   "metadata": {},
   "outputs": [],
   "source": [
    "#we also need to export the columns the way they appear in our data\n",
    "import json\n",
    "columns = {\n",
    "    'data_columns': [col.lower() for col in X.columns]\n",
    "}\n",
    "with open('columns.json','w') as f:\n",
    "    f.write(json.dumps(columns))"
   ]
  }
 ],
 "metadata": {
  "kernelspec": {
   "display_name": "Python 3 (ipykernel)",
   "language": "python",
   "name": "python3"
  },
  "language_info": {
   "codemirror_mode": {
    "name": "ipython",
    "version": 3
   },
   "file_extension": ".py",
   "mimetype": "text/x-python",
   "name": "python",
   "nbconvert_exporter": "python",
   "pygments_lexer": "ipython3",
   "version": "3.9.7"
  }
 },
 "nbformat": 4,
 "nbformat_minor": 5
}
